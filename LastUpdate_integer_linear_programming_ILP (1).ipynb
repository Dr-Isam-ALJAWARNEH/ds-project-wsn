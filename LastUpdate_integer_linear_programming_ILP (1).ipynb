{
  "nbformat": 4,
  "nbformat_minor": 0,
  "metadata": {
    "colab": {
      "provenance": []
    },
    "kernelspec": {
      "name": "python3",
      "display_name": "Python 3"
    },
    "language_info": {
      "name": "python"
    }
  },
  "cells": [
    {
      "cell_type": "markdown",
      "source": [
        "**Import necessary libraries**\n",
        "\n",
        "---\n",
        "\n"
      ],
      "metadata": {
        "id": "9-FPAAHZCLls"
      }
    },
    {
      "cell_type": "code",
      "source": [
        "from pandas import Series, DataFrame\n",
        "import pandas as pd\n",
        "import numpy as np\n",
        "import plotly.graph_objs as go\n",
        "from IPython.display import Image\n",
        "import folium\n",
        "from folium import IFrame\n",
        "from folium.plugins import MarkerCluster\n",
        "from folium import plugins\n",
        "from datetime import datetime\n",
        "import datetime as dt\n",
        "import json\n",
        "from scipy import stats\n",
        "import geopandas as gpd\n",
        "import matplotlib.pyplot as plt\n",
        "from shapely.geometry import Point\n",
        "from folium.plugins import HeatMap\n",
        "import seaborn as sns\n",
        "\n",
        "\n",
        "\n",
        "import os"
      ],
      "metadata": {
        "id": "cPByF4SnCPe2"
      },
      "execution_count": 1,
      "outputs": []
    },
    {
      "cell_type": "code",
      "source": [
        "!pip install pulp"
      ],
      "metadata": {
        "colab": {
          "base_uri": "https://localhost:8080/"
        },
        "id": "jgxGHRHar_Qe",
        "outputId": "ddd33d91-a918-489b-d3d8-99de9a7bd919"
      },
      "execution_count": 2,
      "outputs": [
        {
          "output_type": "stream",
          "name": "stdout",
          "text": [
            "Collecting pulp\n",
            "  Downloading PuLP-2.8.0-py3-none-any.whl (17.7 MB)\n",
            "\u001b[2K     \u001b[90m━━━━━━━━━━━━━━━━━━━━━━━━━━━━━━━━━━━━━━━━\u001b[0m \u001b[32m17.7/17.7 MB\u001b[0m \u001b[31m20.1 MB/s\u001b[0m eta \u001b[36m0:00:00\u001b[0m\n",
            "\u001b[?25hInstalling collected packages: pulp\n",
            "Successfully installed pulp-2.8.0\n"
          ]
        }
      ]
    },
    {
      "cell_type": "code",
      "execution_count": 3,
      "metadata": {
        "colab": {
          "base_uri": "https://localhost:8080/"
        },
        "id": "D-SHWXICqytO",
        "outputId": "8e476f8a-aefd-421b-fdf2-48224e225155"
      },
      "outputs": [
        {
          "output_type": "stream",
          "name": "stdout",
          "text": [
            "Mounted at /content/drive\n"
          ]
        }
      ],
      "source": [
        "from google.colab import drive\n",
        "drive.mount('/content/drive')"
      ]
    },
    {
      "cell_type": "code",
      "source": [
        "%ls \"/content/drive/MyDrive/Foundation of Data Science/Project/NYC_air_quality.csv\""
      ],
      "metadata": {
        "colab": {
          "base_uri": "https://localhost:8080/"
        },
        "id": "h8ioqiDcCmki",
        "outputId": "f2c3f82b-d170-4190-b278-aa9fd9412880"
      },
      "execution_count": 4,
      "outputs": [
        {
          "output_type": "stream",
          "name": "stdout",
          "text": [
            "'/content/drive/MyDrive/Foundation of Data Science/Project/NYC_air_quality.csv'\n"
          ]
        }
      ]
    },
    {
      "cell_type": "markdown",
      "source": [
        "**Reading the files and try to understand the data is about what**\n",
        "\n",
        "---\n",
        "\n"
      ],
      "metadata": {
        "id": "9dvt0pgpId6Y"
      }
    },
    {
      "cell_type": "code",
      "source": [
        "pollution = pd.read_csv(\"/content/drive/MyDrive/Foundation of Data Science/Project/NYC_air_quality.csv\")\n",
        "pollution.head(2)"
      ],
      "metadata": {
        "id": "R7VWE-EkrHPP",
        "colab": {
          "base_uri": "https://localhost:8080/",
          "height": 161
        },
        "outputId": "6969ff78-c00c-4245-bc34-f1a70c29627a"
      },
      "execution_count": 5,
      "outputs": [
        {
          "output_type": "execute_result",
          "data": {
            "text/plain": [
              "      SensorID        time   latitude  longitude  bin0  bin1  bin2  bin3  \\\n",
              "0  NYCP2_CS01A  1631277304  40.847672 -73.869316    11     1     1     0   \n",
              "1  NYCP2_CS01A  1631277308  40.847668 -73.869316    22     4     1     0   \n",
              "\n",
              "   bin4  bin5  ...  bin17  bin18  bin19  bin20  bin21  bin22  bin23  \\\n",
              "0     0     0  ...      0      0      0      0      0      0      0   \n",
              "1     0     2  ...      0      0      0      0      0      0      0   \n",
              "\n",
              "   temperature  humidity      pm25  \n",
              "0         23.7      57.3  4.508813  \n",
              "1         23.7      57.8  5.462420  \n",
              "\n",
              "[2 rows x 31 columns]"
            ],
            "text/html": [
              "\n",
              "  <div id=\"df-9bbffcef-c6eb-4273-8fe7-3507c30bc102\" class=\"colab-df-container\">\n",
              "    <div>\n",
              "<style scoped>\n",
              "    .dataframe tbody tr th:only-of-type {\n",
              "        vertical-align: middle;\n",
              "    }\n",
              "\n",
              "    .dataframe tbody tr th {\n",
              "        vertical-align: top;\n",
              "    }\n",
              "\n",
              "    .dataframe thead th {\n",
              "        text-align: right;\n",
              "    }\n",
              "</style>\n",
              "<table border=\"1\" class=\"dataframe\">\n",
              "  <thead>\n",
              "    <tr style=\"text-align: right;\">\n",
              "      <th></th>\n",
              "      <th>SensorID</th>\n",
              "      <th>time</th>\n",
              "      <th>latitude</th>\n",
              "      <th>longitude</th>\n",
              "      <th>bin0</th>\n",
              "      <th>bin1</th>\n",
              "      <th>bin2</th>\n",
              "      <th>bin3</th>\n",
              "      <th>bin4</th>\n",
              "      <th>bin5</th>\n",
              "      <th>...</th>\n",
              "      <th>bin17</th>\n",
              "      <th>bin18</th>\n",
              "      <th>bin19</th>\n",
              "      <th>bin20</th>\n",
              "      <th>bin21</th>\n",
              "      <th>bin22</th>\n",
              "      <th>bin23</th>\n",
              "      <th>temperature</th>\n",
              "      <th>humidity</th>\n",
              "      <th>pm25</th>\n",
              "    </tr>\n",
              "  </thead>\n",
              "  <tbody>\n",
              "    <tr>\n",
              "      <th>0</th>\n",
              "      <td>NYCP2_CS01A</td>\n",
              "      <td>1631277304</td>\n",
              "      <td>40.847672</td>\n",
              "      <td>-73.869316</td>\n",
              "      <td>11</td>\n",
              "      <td>1</td>\n",
              "      <td>1</td>\n",
              "      <td>0</td>\n",
              "      <td>0</td>\n",
              "      <td>0</td>\n",
              "      <td>...</td>\n",
              "      <td>0</td>\n",
              "      <td>0</td>\n",
              "      <td>0</td>\n",
              "      <td>0</td>\n",
              "      <td>0</td>\n",
              "      <td>0</td>\n",
              "      <td>0</td>\n",
              "      <td>23.7</td>\n",
              "      <td>57.3</td>\n",
              "      <td>4.508813</td>\n",
              "    </tr>\n",
              "    <tr>\n",
              "      <th>1</th>\n",
              "      <td>NYCP2_CS01A</td>\n",
              "      <td>1631277308</td>\n",
              "      <td>40.847668</td>\n",
              "      <td>-73.869316</td>\n",
              "      <td>22</td>\n",
              "      <td>4</td>\n",
              "      <td>1</td>\n",
              "      <td>0</td>\n",
              "      <td>0</td>\n",
              "      <td>2</td>\n",
              "      <td>...</td>\n",
              "      <td>0</td>\n",
              "      <td>0</td>\n",
              "      <td>0</td>\n",
              "      <td>0</td>\n",
              "      <td>0</td>\n",
              "      <td>0</td>\n",
              "      <td>0</td>\n",
              "      <td>23.7</td>\n",
              "      <td>57.8</td>\n",
              "      <td>5.462420</td>\n",
              "    </tr>\n",
              "  </tbody>\n",
              "</table>\n",
              "<p>2 rows × 31 columns</p>\n",
              "</div>\n",
              "    <div class=\"colab-df-buttons\">\n",
              "\n",
              "  <div class=\"colab-df-container\">\n",
              "    <button class=\"colab-df-convert\" onclick=\"convertToInteractive('df-9bbffcef-c6eb-4273-8fe7-3507c30bc102')\"\n",
              "            title=\"Convert this dataframe to an interactive table.\"\n",
              "            style=\"display:none;\">\n",
              "\n",
              "  <svg xmlns=\"http://www.w3.org/2000/svg\" height=\"24px\" viewBox=\"0 -960 960 960\">\n",
              "    <path d=\"M120-120v-720h720v720H120Zm60-500h600v-160H180v160Zm220 220h160v-160H400v160Zm0 220h160v-160H400v160ZM180-400h160v-160H180v160Zm440 0h160v-160H620v160ZM180-180h160v-160H180v160Zm440 0h160v-160H620v160Z\"/>\n",
              "  </svg>\n",
              "    </button>\n",
              "\n",
              "  <style>\n",
              "    .colab-df-container {\n",
              "      display:flex;\n",
              "      gap: 12px;\n",
              "    }\n",
              "\n",
              "    .colab-df-convert {\n",
              "      background-color: #E8F0FE;\n",
              "      border: none;\n",
              "      border-radius: 50%;\n",
              "      cursor: pointer;\n",
              "      display: none;\n",
              "      fill: #1967D2;\n",
              "      height: 32px;\n",
              "      padding: 0 0 0 0;\n",
              "      width: 32px;\n",
              "    }\n",
              "\n",
              "    .colab-df-convert:hover {\n",
              "      background-color: #E2EBFA;\n",
              "      box-shadow: 0px 1px 2px rgba(60, 64, 67, 0.3), 0px 1px 3px 1px rgba(60, 64, 67, 0.15);\n",
              "      fill: #174EA6;\n",
              "    }\n",
              "\n",
              "    .colab-df-buttons div {\n",
              "      margin-bottom: 4px;\n",
              "    }\n",
              "\n",
              "    [theme=dark] .colab-df-convert {\n",
              "      background-color: #3B4455;\n",
              "      fill: #D2E3FC;\n",
              "    }\n",
              "\n",
              "    [theme=dark] .colab-df-convert:hover {\n",
              "      background-color: #434B5C;\n",
              "      box-shadow: 0px 1px 3px 1px rgba(0, 0, 0, 0.15);\n",
              "      filter: drop-shadow(0px 1px 2px rgba(0, 0, 0, 0.3));\n",
              "      fill: #FFFFFF;\n",
              "    }\n",
              "  </style>\n",
              "\n",
              "    <script>\n",
              "      const buttonEl =\n",
              "        document.querySelector('#df-9bbffcef-c6eb-4273-8fe7-3507c30bc102 button.colab-df-convert');\n",
              "      buttonEl.style.display =\n",
              "        google.colab.kernel.accessAllowed ? 'block' : 'none';\n",
              "\n",
              "      async function convertToInteractive(key) {\n",
              "        const element = document.querySelector('#df-9bbffcef-c6eb-4273-8fe7-3507c30bc102');\n",
              "        const dataTable =\n",
              "          await google.colab.kernel.invokeFunction('convertToInteractive',\n",
              "                                                    [key], {});\n",
              "        if (!dataTable) return;\n",
              "\n",
              "        const docLinkHtml = 'Like what you see? Visit the ' +\n",
              "          '<a target=\"_blank\" href=https://colab.research.google.com/notebooks/data_table.ipynb>data table notebook</a>'\n",
              "          + ' to learn more about interactive tables.';\n",
              "        element.innerHTML = '';\n",
              "        dataTable['output_type'] = 'display_data';\n",
              "        await google.colab.output.renderOutput(dataTable, element);\n",
              "        const docLink = document.createElement('div');\n",
              "        docLink.innerHTML = docLinkHtml;\n",
              "        element.appendChild(docLink);\n",
              "      }\n",
              "    </script>\n",
              "  </div>\n",
              "\n",
              "\n",
              "<div id=\"df-e78dde19-57d3-4fa0-93a9-93f1f7d14dd2\">\n",
              "  <button class=\"colab-df-quickchart\" onclick=\"quickchart('df-e78dde19-57d3-4fa0-93a9-93f1f7d14dd2')\"\n",
              "            title=\"Suggest charts\"\n",
              "            style=\"display:none;\">\n",
              "\n",
              "<svg xmlns=\"http://www.w3.org/2000/svg\" height=\"24px\"viewBox=\"0 0 24 24\"\n",
              "     width=\"24px\">\n",
              "    <g>\n",
              "        <path d=\"M19 3H5c-1.1 0-2 .9-2 2v14c0 1.1.9 2 2 2h14c1.1 0 2-.9 2-2V5c0-1.1-.9-2-2-2zM9 17H7v-7h2v7zm4 0h-2V7h2v10zm4 0h-2v-4h2v4z\"/>\n",
              "    </g>\n",
              "</svg>\n",
              "  </button>\n",
              "\n",
              "<style>\n",
              "  .colab-df-quickchart {\n",
              "      --bg-color: #E8F0FE;\n",
              "      --fill-color: #1967D2;\n",
              "      --hover-bg-color: #E2EBFA;\n",
              "      --hover-fill-color: #174EA6;\n",
              "      --disabled-fill-color: #AAA;\n",
              "      --disabled-bg-color: #DDD;\n",
              "  }\n",
              "\n",
              "  [theme=dark] .colab-df-quickchart {\n",
              "      --bg-color: #3B4455;\n",
              "      --fill-color: #D2E3FC;\n",
              "      --hover-bg-color: #434B5C;\n",
              "      --hover-fill-color: #FFFFFF;\n",
              "      --disabled-bg-color: #3B4455;\n",
              "      --disabled-fill-color: #666;\n",
              "  }\n",
              "\n",
              "  .colab-df-quickchart {\n",
              "    background-color: var(--bg-color);\n",
              "    border: none;\n",
              "    border-radius: 50%;\n",
              "    cursor: pointer;\n",
              "    display: none;\n",
              "    fill: var(--fill-color);\n",
              "    height: 32px;\n",
              "    padding: 0;\n",
              "    width: 32px;\n",
              "  }\n",
              "\n",
              "  .colab-df-quickchart:hover {\n",
              "    background-color: var(--hover-bg-color);\n",
              "    box-shadow: 0 1px 2px rgba(60, 64, 67, 0.3), 0 1px 3px 1px rgba(60, 64, 67, 0.15);\n",
              "    fill: var(--button-hover-fill-color);\n",
              "  }\n",
              "\n",
              "  .colab-df-quickchart-complete:disabled,\n",
              "  .colab-df-quickchart-complete:disabled:hover {\n",
              "    background-color: var(--disabled-bg-color);\n",
              "    fill: var(--disabled-fill-color);\n",
              "    box-shadow: none;\n",
              "  }\n",
              "\n",
              "  .colab-df-spinner {\n",
              "    border: 2px solid var(--fill-color);\n",
              "    border-color: transparent;\n",
              "    border-bottom-color: var(--fill-color);\n",
              "    animation:\n",
              "      spin 1s steps(1) infinite;\n",
              "  }\n",
              "\n",
              "  @keyframes spin {\n",
              "    0% {\n",
              "      border-color: transparent;\n",
              "      border-bottom-color: var(--fill-color);\n",
              "      border-left-color: var(--fill-color);\n",
              "    }\n",
              "    20% {\n",
              "      border-color: transparent;\n",
              "      border-left-color: var(--fill-color);\n",
              "      border-top-color: var(--fill-color);\n",
              "    }\n",
              "    30% {\n",
              "      border-color: transparent;\n",
              "      border-left-color: var(--fill-color);\n",
              "      border-top-color: var(--fill-color);\n",
              "      border-right-color: var(--fill-color);\n",
              "    }\n",
              "    40% {\n",
              "      border-color: transparent;\n",
              "      border-right-color: var(--fill-color);\n",
              "      border-top-color: var(--fill-color);\n",
              "    }\n",
              "    60% {\n",
              "      border-color: transparent;\n",
              "      border-right-color: var(--fill-color);\n",
              "    }\n",
              "    80% {\n",
              "      border-color: transparent;\n",
              "      border-right-color: var(--fill-color);\n",
              "      border-bottom-color: var(--fill-color);\n",
              "    }\n",
              "    90% {\n",
              "      border-color: transparent;\n",
              "      border-bottom-color: var(--fill-color);\n",
              "    }\n",
              "  }\n",
              "</style>\n",
              "\n",
              "  <script>\n",
              "    async function quickchart(key) {\n",
              "      const quickchartButtonEl =\n",
              "        document.querySelector('#' + key + ' button');\n",
              "      quickchartButtonEl.disabled = true;  // To prevent multiple clicks.\n",
              "      quickchartButtonEl.classList.add('colab-df-spinner');\n",
              "      try {\n",
              "        const charts = await google.colab.kernel.invokeFunction(\n",
              "            'suggestCharts', [key], {});\n",
              "      } catch (error) {\n",
              "        console.error('Error during call to suggestCharts:', error);\n",
              "      }\n",
              "      quickchartButtonEl.classList.remove('colab-df-spinner');\n",
              "      quickchartButtonEl.classList.add('colab-df-quickchart-complete');\n",
              "    }\n",
              "    (() => {\n",
              "      let quickchartButtonEl =\n",
              "        document.querySelector('#df-e78dde19-57d3-4fa0-93a9-93f1f7d14dd2 button');\n",
              "      quickchartButtonEl.style.display =\n",
              "        google.colab.kernel.accessAllowed ? 'block' : 'none';\n",
              "    })();\n",
              "  </script>\n",
              "</div>\n",
              "\n",
              "    </div>\n",
              "  </div>\n"
            ],
            "application/vnd.google.colaboratory.intrinsic+json": {
              "type": "dataframe",
              "variable_name": "pollution"
            }
          },
          "metadata": {},
          "execution_count": 5
        }
      ]
    },
    {
      "cell_type": "code",
      "source": [
        "# creating a geometry column\n",
        "pollution = gpd.GeoDataFrame(pollution, geometry = gpd.points_from_xy(pollution.longitude, pollution.latitude))\n",
        "pollution.head(2)"
      ],
      "metadata": {
        "colab": {
          "base_uri": "https://localhost:8080/",
          "height": 231
        },
        "id": "QQ7uLD4uFyxF",
        "outputId": "de36cb4b-79f4-4efa-a4e5-62e09dc66246"
      },
      "execution_count": 6,
      "outputs": [
        {
          "output_type": "execute_result",
          "data": {
            "text/plain": [
              "      SensorID        time   latitude  longitude  bin0  bin1  bin2  bin3  \\\n",
              "0  NYCP2_CS01A  1631277304  40.847672 -73.869316    11     1     1     0   \n",
              "1  NYCP2_CS01A  1631277308  40.847668 -73.869316    22     4     1     0   \n",
              "\n",
              "   bin4  bin5  ...  bin18  bin19  bin20  bin21  bin22  bin23  temperature  \\\n",
              "0     0     0  ...      0      0      0      0      0      0         23.7   \n",
              "1     0     2  ...      0      0      0      0      0      0         23.7   \n",
              "\n",
              "   humidity      pm25                    geometry  \n",
              "0      57.3  4.508813  POINT (-73.86932 40.84767)  \n",
              "1      57.8  5.462420  POINT (-73.86932 40.84767)  \n",
              "\n",
              "[2 rows x 32 columns]"
            ],
            "text/html": [
              "\n",
              "  <div id=\"df-540c1e06-77ab-4cd0-8500-7f20721af7ad\" class=\"colab-df-container\">\n",
              "    <div>\n",
              "<style scoped>\n",
              "    .dataframe tbody tr th:only-of-type {\n",
              "        vertical-align: middle;\n",
              "    }\n",
              "\n",
              "    .dataframe tbody tr th {\n",
              "        vertical-align: top;\n",
              "    }\n",
              "\n",
              "    .dataframe thead th {\n",
              "        text-align: right;\n",
              "    }\n",
              "</style>\n",
              "<table border=\"1\" class=\"dataframe\">\n",
              "  <thead>\n",
              "    <tr style=\"text-align: right;\">\n",
              "      <th></th>\n",
              "      <th>SensorID</th>\n",
              "      <th>time</th>\n",
              "      <th>latitude</th>\n",
              "      <th>longitude</th>\n",
              "      <th>bin0</th>\n",
              "      <th>bin1</th>\n",
              "      <th>bin2</th>\n",
              "      <th>bin3</th>\n",
              "      <th>bin4</th>\n",
              "      <th>bin5</th>\n",
              "      <th>...</th>\n",
              "      <th>bin18</th>\n",
              "      <th>bin19</th>\n",
              "      <th>bin20</th>\n",
              "      <th>bin21</th>\n",
              "      <th>bin22</th>\n",
              "      <th>bin23</th>\n",
              "      <th>temperature</th>\n",
              "      <th>humidity</th>\n",
              "      <th>pm25</th>\n",
              "      <th>geometry</th>\n",
              "    </tr>\n",
              "  </thead>\n",
              "  <tbody>\n",
              "    <tr>\n",
              "      <th>0</th>\n",
              "      <td>NYCP2_CS01A</td>\n",
              "      <td>1631277304</td>\n",
              "      <td>40.847672</td>\n",
              "      <td>-73.869316</td>\n",
              "      <td>11</td>\n",
              "      <td>1</td>\n",
              "      <td>1</td>\n",
              "      <td>0</td>\n",
              "      <td>0</td>\n",
              "      <td>0</td>\n",
              "      <td>...</td>\n",
              "      <td>0</td>\n",
              "      <td>0</td>\n",
              "      <td>0</td>\n",
              "      <td>0</td>\n",
              "      <td>0</td>\n",
              "      <td>0</td>\n",
              "      <td>23.7</td>\n",
              "      <td>57.3</td>\n",
              "      <td>4.508813</td>\n",
              "      <td>POINT (-73.86932 40.84767)</td>\n",
              "    </tr>\n",
              "    <tr>\n",
              "      <th>1</th>\n",
              "      <td>NYCP2_CS01A</td>\n",
              "      <td>1631277308</td>\n",
              "      <td>40.847668</td>\n",
              "      <td>-73.869316</td>\n",
              "      <td>22</td>\n",
              "      <td>4</td>\n",
              "      <td>1</td>\n",
              "      <td>0</td>\n",
              "      <td>0</td>\n",
              "      <td>2</td>\n",
              "      <td>...</td>\n",
              "      <td>0</td>\n",
              "      <td>0</td>\n",
              "      <td>0</td>\n",
              "      <td>0</td>\n",
              "      <td>0</td>\n",
              "      <td>0</td>\n",
              "      <td>23.7</td>\n",
              "      <td>57.8</td>\n",
              "      <td>5.462420</td>\n",
              "      <td>POINT (-73.86932 40.84767)</td>\n",
              "    </tr>\n",
              "  </tbody>\n",
              "</table>\n",
              "<p>2 rows × 32 columns</p>\n",
              "</div>\n",
              "    <div class=\"colab-df-buttons\">\n",
              "\n",
              "  <div class=\"colab-df-container\">\n",
              "    <button class=\"colab-df-convert\" onclick=\"convertToInteractive('df-540c1e06-77ab-4cd0-8500-7f20721af7ad')\"\n",
              "            title=\"Convert this dataframe to an interactive table.\"\n",
              "            style=\"display:none;\">\n",
              "\n",
              "  <svg xmlns=\"http://www.w3.org/2000/svg\" height=\"24px\" viewBox=\"0 -960 960 960\">\n",
              "    <path d=\"M120-120v-720h720v720H120Zm60-500h600v-160H180v160Zm220 220h160v-160H400v160Zm0 220h160v-160H400v160ZM180-400h160v-160H180v160Zm440 0h160v-160H620v160ZM180-180h160v-160H180v160Zm440 0h160v-160H620v160Z\"/>\n",
              "  </svg>\n",
              "    </button>\n",
              "\n",
              "  <style>\n",
              "    .colab-df-container {\n",
              "      display:flex;\n",
              "      gap: 12px;\n",
              "    }\n",
              "\n",
              "    .colab-df-convert {\n",
              "      background-color: #E8F0FE;\n",
              "      border: none;\n",
              "      border-radius: 50%;\n",
              "      cursor: pointer;\n",
              "      display: none;\n",
              "      fill: #1967D2;\n",
              "      height: 32px;\n",
              "      padding: 0 0 0 0;\n",
              "      width: 32px;\n",
              "    }\n",
              "\n",
              "    .colab-df-convert:hover {\n",
              "      background-color: #E2EBFA;\n",
              "      box-shadow: 0px 1px 2px rgba(60, 64, 67, 0.3), 0px 1px 3px 1px rgba(60, 64, 67, 0.15);\n",
              "      fill: #174EA6;\n",
              "    }\n",
              "\n",
              "    .colab-df-buttons div {\n",
              "      margin-bottom: 4px;\n",
              "    }\n",
              "\n",
              "    [theme=dark] .colab-df-convert {\n",
              "      background-color: #3B4455;\n",
              "      fill: #D2E3FC;\n",
              "    }\n",
              "\n",
              "    [theme=dark] .colab-df-convert:hover {\n",
              "      background-color: #434B5C;\n",
              "      box-shadow: 0px 1px 3px 1px rgba(0, 0, 0, 0.15);\n",
              "      filter: drop-shadow(0px 1px 2px rgba(0, 0, 0, 0.3));\n",
              "      fill: #FFFFFF;\n",
              "    }\n",
              "  </style>\n",
              "\n",
              "    <script>\n",
              "      const buttonEl =\n",
              "        document.querySelector('#df-540c1e06-77ab-4cd0-8500-7f20721af7ad button.colab-df-convert');\n",
              "      buttonEl.style.display =\n",
              "        google.colab.kernel.accessAllowed ? 'block' : 'none';\n",
              "\n",
              "      async function convertToInteractive(key) {\n",
              "        const element = document.querySelector('#df-540c1e06-77ab-4cd0-8500-7f20721af7ad');\n",
              "        const dataTable =\n",
              "          await google.colab.kernel.invokeFunction('convertToInteractive',\n",
              "                                                    [key], {});\n",
              "        if (!dataTable) return;\n",
              "\n",
              "        const docLinkHtml = 'Like what you see? Visit the ' +\n",
              "          '<a target=\"_blank\" href=https://colab.research.google.com/notebooks/data_table.ipynb>data table notebook</a>'\n",
              "          + ' to learn more about interactive tables.';\n",
              "        element.innerHTML = '';\n",
              "        dataTable['output_type'] = 'display_data';\n",
              "        await google.colab.output.renderOutput(dataTable, element);\n",
              "        const docLink = document.createElement('div');\n",
              "        docLink.innerHTML = docLinkHtml;\n",
              "        element.appendChild(docLink);\n",
              "      }\n",
              "    </script>\n",
              "  </div>\n",
              "\n",
              "\n",
              "<div id=\"df-c2396879-79fd-4b31-8ab5-546fdba1ceac\">\n",
              "  <button class=\"colab-df-quickchart\" onclick=\"quickchart('df-c2396879-79fd-4b31-8ab5-546fdba1ceac')\"\n",
              "            title=\"Suggest charts\"\n",
              "            style=\"display:none;\">\n",
              "\n",
              "<svg xmlns=\"http://www.w3.org/2000/svg\" height=\"24px\"viewBox=\"0 0 24 24\"\n",
              "     width=\"24px\">\n",
              "    <g>\n",
              "        <path d=\"M19 3H5c-1.1 0-2 .9-2 2v14c0 1.1.9 2 2 2h14c1.1 0 2-.9 2-2V5c0-1.1-.9-2-2-2zM9 17H7v-7h2v7zm4 0h-2V7h2v10zm4 0h-2v-4h2v4z\"/>\n",
              "    </g>\n",
              "</svg>\n",
              "  </button>\n",
              "\n",
              "<style>\n",
              "  .colab-df-quickchart {\n",
              "      --bg-color: #E8F0FE;\n",
              "      --fill-color: #1967D2;\n",
              "      --hover-bg-color: #E2EBFA;\n",
              "      --hover-fill-color: #174EA6;\n",
              "      --disabled-fill-color: #AAA;\n",
              "      --disabled-bg-color: #DDD;\n",
              "  }\n",
              "\n",
              "  [theme=dark] .colab-df-quickchart {\n",
              "      --bg-color: #3B4455;\n",
              "      --fill-color: #D2E3FC;\n",
              "      --hover-bg-color: #434B5C;\n",
              "      --hover-fill-color: #FFFFFF;\n",
              "      --disabled-bg-color: #3B4455;\n",
              "      --disabled-fill-color: #666;\n",
              "  }\n",
              "\n",
              "  .colab-df-quickchart {\n",
              "    background-color: var(--bg-color);\n",
              "    border: none;\n",
              "    border-radius: 50%;\n",
              "    cursor: pointer;\n",
              "    display: none;\n",
              "    fill: var(--fill-color);\n",
              "    height: 32px;\n",
              "    padding: 0;\n",
              "    width: 32px;\n",
              "  }\n",
              "\n",
              "  .colab-df-quickchart:hover {\n",
              "    background-color: var(--hover-bg-color);\n",
              "    box-shadow: 0 1px 2px rgba(60, 64, 67, 0.3), 0 1px 3px 1px rgba(60, 64, 67, 0.15);\n",
              "    fill: var(--button-hover-fill-color);\n",
              "  }\n",
              "\n",
              "  .colab-df-quickchart-complete:disabled,\n",
              "  .colab-df-quickchart-complete:disabled:hover {\n",
              "    background-color: var(--disabled-bg-color);\n",
              "    fill: var(--disabled-fill-color);\n",
              "    box-shadow: none;\n",
              "  }\n",
              "\n",
              "  .colab-df-spinner {\n",
              "    border: 2px solid var(--fill-color);\n",
              "    border-color: transparent;\n",
              "    border-bottom-color: var(--fill-color);\n",
              "    animation:\n",
              "      spin 1s steps(1) infinite;\n",
              "  }\n",
              "\n",
              "  @keyframes spin {\n",
              "    0% {\n",
              "      border-color: transparent;\n",
              "      border-bottom-color: var(--fill-color);\n",
              "      border-left-color: var(--fill-color);\n",
              "    }\n",
              "    20% {\n",
              "      border-color: transparent;\n",
              "      border-left-color: var(--fill-color);\n",
              "      border-top-color: var(--fill-color);\n",
              "    }\n",
              "    30% {\n",
              "      border-color: transparent;\n",
              "      border-left-color: var(--fill-color);\n",
              "      border-top-color: var(--fill-color);\n",
              "      border-right-color: var(--fill-color);\n",
              "    }\n",
              "    40% {\n",
              "      border-color: transparent;\n",
              "      border-right-color: var(--fill-color);\n",
              "      border-top-color: var(--fill-color);\n",
              "    }\n",
              "    60% {\n",
              "      border-color: transparent;\n",
              "      border-right-color: var(--fill-color);\n",
              "    }\n",
              "    80% {\n",
              "      border-color: transparent;\n",
              "      border-right-color: var(--fill-color);\n",
              "      border-bottom-color: var(--fill-color);\n",
              "    }\n",
              "    90% {\n",
              "      border-color: transparent;\n",
              "      border-bottom-color: var(--fill-color);\n",
              "    }\n",
              "  }\n",
              "</style>\n",
              "\n",
              "  <script>\n",
              "    async function quickchart(key) {\n",
              "      const quickchartButtonEl =\n",
              "        document.querySelector('#' + key + ' button');\n",
              "      quickchartButtonEl.disabled = true;  // To prevent multiple clicks.\n",
              "      quickchartButtonEl.classList.add('colab-df-spinner');\n",
              "      try {\n",
              "        const charts = await google.colab.kernel.invokeFunction(\n",
              "            'suggestCharts', [key], {});\n",
              "      } catch (error) {\n",
              "        console.error('Error during call to suggestCharts:', error);\n",
              "      }\n",
              "      quickchartButtonEl.classList.remove('colab-df-spinner');\n",
              "      quickchartButtonEl.classList.add('colab-df-quickchart-complete');\n",
              "    }\n",
              "    (() => {\n",
              "      let quickchartButtonEl =\n",
              "        document.querySelector('#df-c2396879-79fd-4b31-8ab5-546fdba1ceac button');\n",
              "      quickchartButtonEl.style.display =\n",
              "        google.colab.kernel.accessAllowed ? 'block' : 'none';\n",
              "    })();\n",
              "  </script>\n",
              "</div>\n",
              "\n",
              "    </div>\n",
              "  </div>\n"
            ],
            "application/vnd.google.colaboratory.intrinsic+json": {
              "type": "dataframe",
              "variable_name": "pollution"
            }
          },
          "metadata": {},
          "execution_count": 6
        }
      ]
    },
    {
      "cell_type": "code",
      "source": [
        "#After adding the gemoetry column the type of pollution is geo\n",
        "type(pollution)"
      ],
      "metadata": {
        "colab": {
          "base_uri": "https://localhost:8080/",
          "height": 186
        },
        "id": "BFbPv4PvH6FX",
        "outputId": "7d505c7c-da1e-4263-e002-4d26d149009b"
      },
      "execution_count": 7,
      "outputs": [
        {
          "output_type": "execute_result",
          "data": {
            "text/plain": [
              "geopandas.geodataframe.GeoDataFrame"
            ],
            "text/html": [
              "<div style=\"max-width:800px; border: 1px solid var(--colab-border-color);\"><style>\n",
              "      pre.function-repr-contents {\n",
              "        overflow-x: auto;\n",
              "        padding: 8px 12px;\n",
              "        max-height: 500px;\n",
              "      }\n",
              "\n",
              "      pre.function-repr-contents.function-repr-contents-collapsed {\n",
              "        cursor: pointer;\n",
              "        max-height: 100px;\n",
              "      }\n",
              "    </style>\n",
              "    <pre style=\"white-space: initial; background:\n",
              "         var(--colab-secondary-surface-color); padding: 8px 12px;\n",
              "         border-bottom: 1px solid var(--colab-border-color);\"><b>geopandas.geodataframe.GeoDataFrame</b><br/>def __init__(data=None, *args, geometry=None, crs=None, **kwargs)</pre><pre class=\"function-repr-contents function-repr-contents-collapsed\" style=\"\"><a class=\"filepath\" style=\"display:none\" href=\"#\">/usr/local/lib/python3.10/dist-packages/geopandas/geodataframe.py</a>A GeoDataFrame object is a pandas.DataFrame that has a column\n",
              "with geometry. In addition to the standard DataFrame constructor arguments,\n",
              "GeoDataFrame also accepts the following keyword arguments:\n",
              "\n",
              "Parameters\n",
              "----------\n",
              "crs : value (optional)\n",
              "    Coordinate Reference System of the geometry objects. Can be anything accepted by\n",
              "    :meth:`pyproj.CRS.from_user_input() &lt;pyproj.crs.CRS.from_user_input&gt;`,\n",
              "    such as an authority string (eg &quot;EPSG:4326&quot;) or a WKT string.\n",
              "geometry : str or array (optional)\n",
              "    If str, column to use as geometry. If array, will be set as &#x27;geometry&#x27;\n",
              "    column on GeoDataFrame.\n",
              "\n",
              "Examples\n",
              "--------\n",
              "Constructing GeoDataFrame from a dictionary.\n",
              "\n",
              "&gt;&gt;&gt; from shapely.geometry import Point\n",
              "&gt;&gt;&gt; d = {&#x27;col1&#x27;: [&#x27;name1&#x27;, &#x27;name2&#x27;], &#x27;geometry&#x27;: [Point(1, 2), Point(2, 1)]}\n",
              "&gt;&gt;&gt; gdf = geopandas.GeoDataFrame(d, crs=&quot;EPSG:4326&quot;)\n",
              "&gt;&gt;&gt; gdf\n",
              "    col1                 geometry\n",
              "0  name1  POINT (1.00000 2.00000)\n",
              "1  name2  POINT (2.00000 1.00000)\n",
              "\n",
              "Notice that the inferred dtype of &#x27;geometry&#x27; columns is geometry.\n",
              "\n",
              "&gt;&gt;&gt; gdf.dtypes\n",
              "col1          object\n",
              "geometry    geometry\n",
              "dtype: object\n",
              "\n",
              "Constructing GeoDataFrame from a pandas DataFrame with a column of WKT geometries:\n",
              "\n",
              "&gt;&gt;&gt; import pandas as pd\n",
              "&gt;&gt;&gt; d = {&#x27;col1&#x27;: [&#x27;name1&#x27;, &#x27;name2&#x27;], &#x27;wkt&#x27;: [&#x27;POINT (1 2)&#x27;, &#x27;POINT (2 1)&#x27;]}\n",
              "&gt;&gt;&gt; df = pd.DataFrame(d)\n",
              "&gt;&gt;&gt; gs = geopandas.GeoSeries.from_wkt(df[&#x27;wkt&#x27;])\n",
              "&gt;&gt;&gt; gdf = geopandas.GeoDataFrame(df, geometry=gs, crs=&quot;EPSG:4326&quot;)\n",
              "&gt;&gt;&gt; gdf\n",
              "    col1          wkt                 geometry\n",
              "0  name1  POINT (1 2)  POINT (1.00000 2.00000)\n",
              "1  name2  POINT (2 1)  POINT (2.00000 1.00000)\n",
              "\n",
              "See also\n",
              "--------\n",
              "GeoSeries : Series object designed to store shapely geometry objects</pre>\n",
              "      <script>\n",
              "      if (google.colab.kernel.accessAllowed && google.colab.files && google.colab.files.view) {\n",
              "        for (const element of document.querySelectorAll('.filepath')) {\n",
              "          element.style.display = 'block'\n",
              "          element.onclick = (event) => {\n",
              "            event.preventDefault();\n",
              "            event.stopPropagation();\n",
              "            google.colab.files.view(element.textContent, 71);\n",
              "          };\n",
              "        }\n",
              "      }\n",
              "      for (const element of document.querySelectorAll('.function-repr-contents')) {\n",
              "        element.onclick = (event) => {\n",
              "          event.preventDefault();\n",
              "          event.stopPropagation();\n",
              "          element.classList.toggle('function-repr-contents-collapsed');\n",
              "        };\n",
              "      }\n",
              "      </script>\n",
              "      </div>"
            ]
          },
          "metadata": {},
          "execution_count": 7
        }
      ]
    },
    {
      "cell_type": "code",
      "source": [
        "#rows and columns\n",
        "pollution.shape"
      ],
      "metadata": {
        "colab": {
          "base_uri": "https://localhost:8080/"
        },
        "id": "rL-CKnxCFg5R",
        "outputId": "7d67160f-f9c8-481c-bc49-f95a1b2dd53d"
      },
      "execution_count": 8,
      "outputs": [
        {
          "output_type": "execute_result",
          "data": {
            "text/plain": [
              "(169999, 32)"
            ]
          },
          "metadata": {},
          "execution_count": 8
        }
      ]
    },
    {
      "cell_type": "code",
      "source": [
        "#data types\n",
        "pollution.dtypes"
      ],
      "metadata": {
        "colab": {
          "base_uri": "https://localhost:8080/"
        },
        "id": "0_IaR8bAFjAo",
        "outputId": "28ec103c-8110-44bf-a9ae-fe0b8847f65b"
      },
      "execution_count": 9,
      "outputs": [
        {
          "output_type": "execute_result",
          "data": {
            "text/plain": [
              "SensorID         object\n",
              "time              int64\n",
              "latitude        float64\n",
              "longitude       float64\n",
              "bin0              int64\n",
              "bin1              int64\n",
              "bin2              int64\n",
              "bin3              int64\n",
              "bin4              int64\n",
              "bin5              int64\n",
              "bin6              int64\n",
              "bin7              int64\n",
              "bin8              int64\n",
              "bin9              int64\n",
              "bin10             int64\n",
              "bin11             int64\n",
              "bin12             int64\n",
              "bin13             int64\n",
              "bin14             int64\n",
              "bin15             int64\n",
              "bin16             int64\n",
              "bin17             int64\n",
              "bin18             int64\n",
              "bin19             int64\n",
              "bin20             int64\n",
              "bin21             int64\n",
              "bin22             int64\n",
              "bin23             int64\n",
              "temperature     float64\n",
              "humidity        float64\n",
              "pm25            float64\n",
              "geometry       geometry\n",
              "dtype: object"
            ]
          },
          "metadata": {},
          "execution_count": 9
        }
      ]
    },
    {
      "cell_type": "markdown",
      "source": [
        "**Modify the time column in pollution data in aim to explore the date and hour this will help in analyzing**\n",
        "\n",
        "---\n",
        "\n"
      ],
      "metadata": {
        "id": "SbdBE8gHIjMB"
      }
    },
    {
      "cell_type": "code",
      "source": [
        "#datetime_series from the time column, extract the date and the time in \"Hours,Minutes,Seconds\".Also, using the datetime results in datatypes to dattime64[ns]\n",
        "pollution['datetime_series'] = pd.to_datetime(pollution['time'], unit='s')\n",
        "pollution['datetime_series'].head(4)"
      ],
      "metadata": {
        "colab": {
          "base_uri": "https://localhost:8080/"
        },
        "id": "N1qAbzNiI3KB",
        "outputId": "cae3c788-0d2a-47c6-963f-95bc882b77e2"
      },
      "execution_count": 10,
      "outputs": [
        {
          "output_type": "execute_result",
          "data": {
            "text/plain": [
              "0   2021-09-10 12:35:04\n",
              "1   2021-09-10 12:35:08\n",
              "2   2021-09-10 12:35:13\n",
              "3   2021-09-10 12:35:18\n",
              "Name: datetime_series, dtype: datetime64[ns]"
            ]
          },
          "metadata": {},
          "execution_count": 10
        }
      ]
    },
    {
      "cell_type": "code",
      "source": [
        "#Extracts the time with \"Hours,Minutes,Seconds\" from datetime_series column\n",
        "pollution['PerTime'] = pollution['datetime_series'].dt.time\n",
        "pollution['PerTime'].head(4)"
      ],
      "metadata": {
        "colab": {
          "base_uri": "https://localhost:8080/"
        },
        "id": "VxdusGSMJYSQ",
        "outputId": "6af4dd91-a87c-443e-9514-547eadda7fda"
      },
      "execution_count": 11,
      "outputs": [
        {
          "output_type": "execute_result",
          "data": {
            "text/plain": [
              "0    12:35:04\n",
              "1    12:35:08\n",
              "2    12:35:13\n",
              "3    12:35:18\n",
              "Name: PerTime, dtype: object"
            ]
          },
          "metadata": {},
          "execution_count": 11
        }
      ]
    },
    {
      "cell_type": "code",
      "source": [
        "#Extracts the time with \"Hours\" only from datetime_series column\n",
        "pollution['PerHour'] = pollution['datetime_series'].dt.hour\n",
        "pollution['PerHour'].head(4)"
      ],
      "metadata": {
        "colab": {
          "base_uri": "https://localhost:8080/"
        },
        "id": "CYRlz7DDKaxS",
        "outputId": "5e5a510f-2e2e-482d-f83d-547ada0eeb71"
      },
      "execution_count": 12,
      "outputs": [
        {
          "output_type": "execute_result",
          "data": {
            "text/plain": [
              "0    12\n",
              "1    12\n",
              "2    12\n",
              "3    12\n",
              "Name: PerHour, dtype: int32"
            ]
          },
          "metadata": {},
          "execution_count": 12
        }
      ]
    },
    {
      "cell_type": "code",
      "source": [
        "#Extracts the time with \"Hours\" only from datetime_series column\n",
        "pollution['Date'] = pollution['datetime_series'].dt.date\n",
        "pollution['Date'].head(4)"
      ],
      "metadata": {
        "colab": {
          "base_uri": "https://localhost:8080/"
        },
        "id": "_hpf2IvYU1Wj",
        "outputId": "ddc55283-62ef-41c2-9472-e96bbeb10e9d"
      },
      "execution_count": 13,
      "outputs": [
        {
          "output_type": "execute_result",
          "data": {
            "text/plain": [
              "0    2021-09-10\n",
              "1    2021-09-10\n",
              "2    2021-09-10\n",
              "3    2021-09-10\n",
              "Name: Date, dtype: object"
            ]
          },
          "metadata": {},
          "execution_count": 13
        }
      ]
    },
    {
      "cell_type": "code",
      "source": [
        "#Having the PMAM column to explore at which specific time \"Morning, afternoon, or evening\"\n",
        "pollution['PMAM'] = pollution['datetime_series'].dt.strftime('%p')"
      ],
      "metadata": {
        "id": "0t72qf2P9Hsc"
      },
      "execution_count": 14,
      "outputs": []
    },
    {
      "cell_type": "code",
      "source": [
        "#After we get the valuable infromation about time we will drop the column\n",
        "pollution = pollution.drop('time', axis=1)"
      ],
      "metadata": {
        "id": "-SJoHa8EiA0R"
      },
      "execution_count": 15,
      "outputs": []
    },
    {
      "cell_type": "code",
      "source": [
        "#Also we can drop the datetime_series column because we divide the this column to\"PerTime, PerHour, Date, and PMAM\"\n",
        "pollution = pollution.drop('datetime_series', axis=1)"
      ],
      "metadata": {
        "id": "o4LwEe5m8zka"
      },
      "execution_count": 16,
      "outputs": []
    },
    {
      "cell_type": "code",
      "source": [
        "#Having the PerMonth column helps in knowing how many months are in the data\n",
        "pollution['Date'] = pd.to_datetime(pollution['Date'])\n",
        "pollution['PerMonth'] = pollution['Date'].dt.month"
      ],
      "metadata": {
        "id": "GDLsBL1K-Xwq"
      },
      "execution_count": 17,
      "outputs": []
    },
    {
      "cell_type": "code",
      "source": [
        "# i want the dates to be from 1 to 12 with the names of month so it became easy for the analysis\n",
        "month_names = {\n",
        "    1: 'January', 2: 'February', 3: 'March', 4: 'April',\n",
        "    5: 'May', 6: 'June', 7: 'July', 8: 'August',\n",
        "    9: 'September', 10: 'October', 11: 'November', 12: 'December'\n",
        "}\n",
        "pollution['PerMonth'] = pollution['PerMonth'].map(month_names)"
      ],
      "metadata": {
        "id": "c1Tl90zG-62p"
      },
      "execution_count": 18,
      "outputs": []
    },
    {
      "cell_type": "code",
      "source": [
        "#Converting to PerDay to have more information about data\n",
        "pollution['Date'] = pd.to_datetime(pollution['Date'])\n",
        "pollution['PerDay'] = pollution['Date'].dt.strftime('%A')"
      ],
      "metadata": {
        "id": "Hnvh57oDBH0Z"
      },
      "execution_count": 19,
      "outputs": []
    },
    {
      "cell_type": "code",
      "source": [
        "#After adding five columns which is the PerTime, PerHour,date, PMAM, PerMonth, PerDay and removing one column which is time\n",
        "pollution.head(2)"
      ],
      "metadata": {
        "colab": {
          "base_uri": "https://localhost:8080/",
          "height": 231
        },
        "id": "ZjLKkxwFLEr5",
        "outputId": "4cfeac4a-a7c6-4be6-813f-b7ab76ba24a9"
      },
      "execution_count": 20,
      "outputs": [
        {
          "output_type": "execute_result",
          "data": {
            "text/plain": [
              "      SensorID   latitude  longitude  bin0  bin1  bin2  bin3  bin4  bin5  \\\n",
              "0  NYCP2_CS01A  40.847672 -73.869316    11     1     1     0     0     0   \n",
              "1  NYCP2_CS01A  40.847668 -73.869316    22     4     1     0     0     2   \n",
              "\n",
              "   bin6  ...  temperature  humidity      pm25                    geometry  \\\n",
              "0     0  ...         23.7      57.3  4.508813  POINT (-73.86932 40.84767)   \n",
              "1     0  ...         23.7      57.8  5.462420  POINT (-73.86932 40.84767)   \n",
              "\n",
              "    PerTime  PerHour       Date  PMAM   PerMonth  PerDay  \n",
              "0  12:35:04       12 2021-09-10    PM  September  Friday  \n",
              "1  12:35:08       12 2021-09-10    PM  September  Friday  \n",
              "\n",
              "[2 rows x 37 columns]"
            ],
            "text/html": [
              "\n",
              "  <div id=\"df-3073cc63-d514-48b1-ad90-58b64e367d93\" class=\"colab-df-container\">\n",
              "    <div>\n",
              "<style scoped>\n",
              "    .dataframe tbody tr th:only-of-type {\n",
              "        vertical-align: middle;\n",
              "    }\n",
              "\n",
              "    .dataframe tbody tr th {\n",
              "        vertical-align: top;\n",
              "    }\n",
              "\n",
              "    .dataframe thead th {\n",
              "        text-align: right;\n",
              "    }\n",
              "</style>\n",
              "<table border=\"1\" class=\"dataframe\">\n",
              "  <thead>\n",
              "    <tr style=\"text-align: right;\">\n",
              "      <th></th>\n",
              "      <th>SensorID</th>\n",
              "      <th>latitude</th>\n",
              "      <th>longitude</th>\n",
              "      <th>bin0</th>\n",
              "      <th>bin1</th>\n",
              "      <th>bin2</th>\n",
              "      <th>bin3</th>\n",
              "      <th>bin4</th>\n",
              "      <th>bin5</th>\n",
              "      <th>bin6</th>\n",
              "      <th>...</th>\n",
              "      <th>temperature</th>\n",
              "      <th>humidity</th>\n",
              "      <th>pm25</th>\n",
              "      <th>geometry</th>\n",
              "      <th>PerTime</th>\n",
              "      <th>PerHour</th>\n",
              "      <th>Date</th>\n",
              "      <th>PMAM</th>\n",
              "      <th>PerMonth</th>\n",
              "      <th>PerDay</th>\n",
              "    </tr>\n",
              "  </thead>\n",
              "  <tbody>\n",
              "    <tr>\n",
              "      <th>0</th>\n",
              "      <td>NYCP2_CS01A</td>\n",
              "      <td>40.847672</td>\n",
              "      <td>-73.869316</td>\n",
              "      <td>11</td>\n",
              "      <td>1</td>\n",
              "      <td>1</td>\n",
              "      <td>0</td>\n",
              "      <td>0</td>\n",
              "      <td>0</td>\n",
              "      <td>0</td>\n",
              "      <td>...</td>\n",
              "      <td>23.7</td>\n",
              "      <td>57.3</td>\n",
              "      <td>4.508813</td>\n",
              "      <td>POINT (-73.86932 40.84767)</td>\n",
              "      <td>12:35:04</td>\n",
              "      <td>12</td>\n",
              "      <td>2021-09-10</td>\n",
              "      <td>PM</td>\n",
              "      <td>September</td>\n",
              "      <td>Friday</td>\n",
              "    </tr>\n",
              "    <tr>\n",
              "      <th>1</th>\n",
              "      <td>NYCP2_CS01A</td>\n",
              "      <td>40.847668</td>\n",
              "      <td>-73.869316</td>\n",
              "      <td>22</td>\n",
              "      <td>4</td>\n",
              "      <td>1</td>\n",
              "      <td>0</td>\n",
              "      <td>0</td>\n",
              "      <td>2</td>\n",
              "      <td>0</td>\n",
              "      <td>...</td>\n",
              "      <td>23.7</td>\n",
              "      <td>57.8</td>\n",
              "      <td>5.462420</td>\n",
              "      <td>POINT (-73.86932 40.84767)</td>\n",
              "      <td>12:35:08</td>\n",
              "      <td>12</td>\n",
              "      <td>2021-09-10</td>\n",
              "      <td>PM</td>\n",
              "      <td>September</td>\n",
              "      <td>Friday</td>\n",
              "    </tr>\n",
              "  </tbody>\n",
              "</table>\n",
              "<p>2 rows × 37 columns</p>\n",
              "</div>\n",
              "    <div class=\"colab-df-buttons\">\n",
              "\n",
              "  <div class=\"colab-df-container\">\n",
              "    <button class=\"colab-df-convert\" onclick=\"convertToInteractive('df-3073cc63-d514-48b1-ad90-58b64e367d93')\"\n",
              "            title=\"Convert this dataframe to an interactive table.\"\n",
              "            style=\"display:none;\">\n",
              "\n",
              "  <svg xmlns=\"http://www.w3.org/2000/svg\" height=\"24px\" viewBox=\"0 -960 960 960\">\n",
              "    <path d=\"M120-120v-720h720v720H120Zm60-500h600v-160H180v160Zm220 220h160v-160H400v160Zm0 220h160v-160H400v160ZM180-400h160v-160H180v160Zm440 0h160v-160H620v160ZM180-180h160v-160H180v160Zm440 0h160v-160H620v160Z\"/>\n",
              "  </svg>\n",
              "    </button>\n",
              "\n",
              "  <style>\n",
              "    .colab-df-container {\n",
              "      display:flex;\n",
              "      gap: 12px;\n",
              "    }\n",
              "\n",
              "    .colab-df-convert {\n",
              "      background-color: #E8F0FE;\n",
              "      border: none;\n",
              "      border-radius: 50%;\n",
              "      cursor: pointer;\n",
              "      display: none;\n",
              "      fill: #1967D2;\n",
              "      height: 32px;\n",
              "      padding: 0 0 0 0;\n",
              "      width: 32px;\n",
              "    }\n",
              "\n",
              "    .colab-df-convert:hover {\n",
              "      background-color: #E2EBFA;\n",
              "      box-shadow: 0px 1px 2px rgba(60, 64, 67, 0.3), 0px 1px 3px 1px rgba(60, 64, 67, 0.15);\n",
              "      fill: #174EA6;\n",
              "    }\n",
              "\n",
              "    .colab-df-buttons div {\n",
              "      margin-bottom: 4px;\n",
              "    }\n",
              "\n",
              "    [theme=dark] .colab-df-convert {\n",
              "      background-color: #3B4455;\n",
              "      fill: #D2E3FC;\n",
              "    }\n",
              "\n",
              "    [theme=dark] .colab-df-convert:hover {\n",
              "      background-color: #434B5C;\n",
              "      box-shadow: 0px 1px 3px 1px rgba(0, 0, 0, 0.15);\n",
              "      filter: drop-shadow(0px 1px 2px rgba(0, 0, 0, 0.3));\n",
              "      fill: #FFFFFF;\n",
              "    }\n",
              "  </style>\n",
              "\n",
              "    <script>\n",
              "      const buttonEl =\n",
              "        document.querySelector('#df-3073cc63-d514-48b1-ad90-58b64e367d93 button.colab-df-convert');\n",
              "      buttonEl.style.display =\n",
              "        google.colab.kernel.accessAllowed ? 'block' : 'none';\n",
              "\n",
              "      async function convertToInteractive(key) {\n",
              "        const element = document.querySelector('#df-3073cc63-d514-48b1-ad90-58b64e367d93');\n",
              "        const dataTable =\n",
              "          await google.colab.kernel.invokeFunction('convertToInteractive',\n",
              "                                                    [key], {});\n",
              "        if (!dataTable) return;\n",
              "\n",
              "        const docLinkHtml = 'Like what you see? Visit the ' +\n",
              "          '<a target=\"_blank\" href=https://colab.research.google.com/notebooks/data_table.ipynb>data table notebook</a>'\n",
              "          + ' to learn more about interactive tables.';\n",
              "        element.innerHTML = '';\n",
              "        dataTable['output_type'] = 'display_data';\n",
              "        await google.colab.output.renderOutput(dataTable, element);\n",
              "        const docLink = document.createElement('div');\n",
              "        docLink.innerHTML = docLinkHtml;\n",
              "        element.appendChild(docLink);\n",
              "      }\n",
              "    </script>\n",
              "  </div>\n",
              "\n",
              "\n",
              "<div id=\"df-d9cb6011-dcf4-4aab-8f5f-44c16155778d\">\n",
              "  <button class=\"colab-df-quickchart\" onclick=\"quickchart('df-d9cb6011-dcf4-4aab-8f5f-44c16155778d')\"\n",
              "            title=\"Suggest charts\"\n",
              "            style=\"display:none;\">\n",
              "\n",
              "<svg xmlns=\"http://www.w3.org/2000/svg\" height=\"24px\"viewBox=\"0 0 24 24\"\n",
              "     width=\"24px\">\n",
              "    <g>\n",
              "        <path d=\"M19 3H5c-1.1 0-2 .9-2 2v14c0 1.1.9 2 2 2h14c1.1 0 2-.9 2-2V5c0-1.1-.9-2-2-2zM9 17H7v-7h2v7zm4 0h-2V7h2v10zm4 0h-2v-4h2v4z\"/>\n",
              "    </g>\n",
              "</svg>\n",
              "  </button>\n",
              "\n",
              "<style>\n",
              "  .colab-df-quickchart {\n",
              "      --bg-color: #E8F0FE;\n",
              "      --fill-color: #1967D2;\n",
              "      --hover-bg-color: #E2EBFA;\n",
              "      --hover-fill-color: #174EA6;\n",
              "      --disabled-fill-color: #AAA;\n",
              "      --disabled-bg-color: #DDD;\n",
              "  }\n",
              "\n",
              "  [theme=dark] .colab-df-quickchart {\n",
              "      --bg-color: #3B4455;\n",
              "      --fill-color: #D2E3FC;\n",
              "      --hover-bg-color: #434B5C;\n",
              "      --hover-fill-color: #FFFFFF;\n",
              "      --disabled-bg-color: #3B4455;\n",
              "      --disabled-fill-color: #666;\n",
              "  }\n",
              "\n",
              "  .colab-df-quickchart {\n",
              "    background-color: var(--bg-color);\n",
              "    border: none;\n",
              "    border-radius: 50%;\n",
              "    cursor: pointer;\n",
              "    display: none;\n",
              "    fill: var(--fill-color);\n",
              "    height: 32px;\n",
              "    padding: 0;\n",
              "    width: 32px;\n",
              "  }\n",
              "\n",
              "  .colab-df-quickchart:hover {\n",
              "    background-color: var(--hover-bg-color);\n",
              "    box-shadow: 0 1px 2px rgba(60, 64, 67, 0.3), 0 1px 3px 1px rgba(60, 64, 67, 0.15);\n",
              "    fill: var(--button-hover-fill-color);\n",
              "  }\n",
              "\n",
              "  .colab-df-quickchart-complete:disabled,\n",
              "  .colab-df-quickchart-complete:disabled:hover {\n",
              "    background-color: var(--disabled-bg-color);\n",
              "    fill: var(--disabled-fill-color);\n",
              "    box-shadow: none;\n",
              "  }\n",
              "\n",
              "  .colab-df-spinner {\n",
              "    border: 2px solid var(--fill-color);\n",
              "    border-color: transparent;\n",
              "    border-bottom-color: var(--fill-color);\n",
              "    animation:\n",
              "      spin 1s steps(1) infinite;\n",
              "  }\n",
              "\n",
              "  @keyframes spin {\n",
              "    0% {\n",
              "      border-color: transparent;\n",
              "      border-bottom-color: var(--fill-color);\n",
              "      border-left-color: var(--fill-color);\n",
              "    }\n",
              "    20% {\n",
              "      border-color: transparent;\n",
              "      border-left-color: var(--fill-color);\n",
              "      border-top-color: var(--fill-color);\n",
              "    }\n",
              "    30% {\n",
              "      border-color: transparent;\n",
              "      border-left-color: var(--fill-color);\n",
              "      border-top-color: var(--fill-color);\n",
              "      border-right-color: var(--fill-color);\n",
              "    }\n",
              "    40% {\n",
              "      border-color: transparent;\n",
              "      border-right-color: var(--fill-color);\n",
              "      border-top-color: var(--fill-color);\n",
              "    }\n",
              "    60% {\n",
              "      border-color: transparent;\n",
              "      border-right-color: var(--fill-color);\n",
              "    }\n",
              "    80% {\n",
              "      border-color: transparent;\n",
              "      border-right-color: var(--fill-color);\n",
              "      border-bottom-color: var(--fill-color);\n",
              "    }\n",
              "    90% {\n",
              "      border-color: transparent;\n",
              "      border-bottom-color: var(--fill-color);\n",
              "    }\n",
              "  }\n",
              "</style>\n",
              "\n",
              "  <script>\n",
              "    async function quickchart(key) {\n",
              "      const quickchartButtonEl =\n",
              "        document.querySelector('#' + key + ' button');\n",
              "      quickchartButtonEl.disabled = true;  // To prevent multiple clicks.\n",
              "      quickchartButtonEl.classList.add('colab-df-spinner');\n",
              "      try {\n",
              "        const charts = await google.colab.kernel.invokeFunction(\n",
              "            'suggestCharts', [key], {});\n",
              "      } catch (error) {\n",
              "        console.error('Error during call to suggestCharts:', error);\n",
              "      }\n",
              "      quickchartButtonEl.classList.remove('colab-df-spinner');\n",
              "      quickchartButtonEl.classList.add('colab-df-quickchart-complete');\n",
              "    }\n",
              "    (() => {\n",
              "      let quickchartButtonEl =\n",
              "        document.querySelector('#df-d9cb6011-dcf4-4aab-8f5f-44c16155778d button');\n",
              "      quickchartButtonEl.style.display =\n",
              "        google.colab.kernel.accessAllowed ? 'block' : 'none';\n",
              "    })();\n",
              "  </script>\n",
              "</div>\n",
              "\n",
              "    </div>\n",
              "  </div>\n"
            ],
            "application/vnd.google.colaboratory.intrinsic+json": {
              "type": "dataframe",
              "variable_name": "pollution"
            }
          },
          "metadata": {},
          "execution_count": 20
        }
      ]
    },
    {
      "cell_type": "code",
      "source": [
        "# We have elements from september to december in this data\n",
        "months_list = pollution['PerMonth'].unique().tolist()\n",
        "print(months_list)"
      ],
      "metadata": {
        "colab": {
          "base_uri": "https://localhost:8080/"
        },
        "id": "C_CY1OtbAWuO",
        "outputId": "e3476e3c-7c60-4907-fced-fc7d802cd5e3"
      },
      "execution_count": 21,
      "outputs": [
        {
          "output_type": "stream",
          "name": "stdout",
          "text": [
            "['September', 'October', 'November', 'December']\n"
          ]
        }
      ]
    },
    {
      "cell_type": "code",
      "source": [
        "# Applying this code helps in understanding the data in depth.\n",
        "# Count the occurrences of AM and PM values in the 'PerHour' column\n",
        "ampm_counts = pollution.groupby('PMAM')['PerHour'].agg(['min', 'max', 'size'])\n",
        "# Print the counts\n",
        "print(ampm_counts)"
      ],
      "metadata": {
        "colab": {
          "base_uri": "https://localhost:8080/"
        },
        "id": "YH--b_dYd4z3",
        "outputId": "79c690cf-d963-4bc7-b0ef-cf54df6cd977"
      },
      "execution_count": 22,
      "outputs": [
        {
          "output_type": "stream",
          "name": "stdout",
          "text": [
            "      min  max    size\n",
            "PMAM                  \n",
            "AM      0   11   48631\n",
            "PM     12   23  121368\n"
          ]
        }
      ]
    },
    {
      "cell_type": "markdown",
      "source": [
        "I can Figure out the data with AM are from o to 11, and with PM from 12 to 23. Also, Most of the sensors are in PM not AM based on the size."
      ],
      "metadata": {
        "id": "8McJNE8idoAM"
      }
    },
    {
      "cell_type": "code",
      "source": [
        "test1PM = pollution[(pollution['PerHour'] == 12)]\n",
        "test1PM.head(1)"
      ],
      "metadata": {
        "colab": {
          "base_uri": "https://localhost:8080/",
          "height": 164
        },
        "id": "7kz4vbaLcro4",
        "outputId": "d6ddcda3-bb94-4de5-bc45-3ed7db176d52"
      },
      "execution_count": 23,
      "outputs": [
        {
          "output_type": "execute_result",
          "data": {
            "text/plain": [
              "      SensorID   latitude  longitude  bin0  bin1  bin2  bin3  bin4  bin5  \\\n",
              "0  NYCP2_CS01A  40.847672 -73.869316    11     1     1     0     0     0   \n",
              "\n",
              "   bin6  ...  temperature  humidity      pm25                    geometry  \\\n",
              "0     0  ...         23.7      57.3  4.508813  POINT (-73.86932 40.84767)   \n",
              "\n",
              "    PerTime  PerHour       Date  PMAM   PerMonth  PerDay  \n",
              "0  12:35:04       12 2021-09-10    PM  September  Friday  \n",
              "\n",
              "[1 rows x 37 columns]"
            ],
            "text/html": [
              "\n",
              "  <div id=\"df-0a12f1d5-bdf2-4217-9e6c-fc2f4fe98911\" class=\"colab-df-container\">\n",
              "    <div>\n",
              "<style scoped>\n",
              "    .dataframe tbody tr th:only-of-type {\n",
              "        vertical-align: middle;\n",
              "    }\n",
              "\n",
              "    .dataframe tbody tr th {\n",
              "        vertical-align: top;\n",
              "    }\n",
              "\n",
              "    .dataframe thead th {\n",
              "        text-align: right;\n",
              "    }\n",
              "</style>\n",
              "<table border=\"1\" class=\"dataframe\">\n",
              "  <thead>\n",
              "    <tr style=\"text-align: right;\">\n",
              "      <th></th>\n",
              "      <th>SensorID</th>\n",
              "      <th>latitude</th>\n",
              "      <th>longitude</th>\n",
              "      <th>bin0</th>\n",
              "      <th>bin1</th>\n",
              "      <th>bin2</th>\n",
              "      <th>bin3</th>\n",
              "      <th>bin4</th>\n",
              "      <th>bin5</th>\n",
              "      <th>bin6</th>\n",
              "      <th>...</th>\n",
              "      <th>temperature</th>\n",
              "      <th>humidity</th>\n",
              "      <th>pm25</th>\n",
              "      <th>geometry</th>\n",
              "      <th>PerTime</th>\n",
              "      <th>PerHour</th>\n",
              "      <th>Date</th>\n",
              "      <th>PMAM</th>\n",
              "      <th>PerMonth</th>\n",
              "      <th>PerDay</th>\n",
              "    </tr>\n",
              "  </thead>\n",
              "  <tbody>\n",
              "    <tr>\n",
              "      <th>0</th>\n",
              "      <td>NYCP2_CS01A</td>\n",
              "      <td>40.847672</td>\n",
              "      <td>-73.869316</td>\n",
              "      <td>11</td>\n",
              "      <td>1</td>\n",
              "      <td>1</td>\n",
              "      <td>0</td>\n",
              "      <td>0</td>\n",
              "      <td>0</td>\n",
              "      <td>0</td>\n",
              "      <td>...</td>\n",
              "      <td>23.7</td>\n",
              "      <td>57.3</td>\n",
              "      <td>4.508813</td>\n",
              "      <td>POINT (-73.86932 40.84767)</td>\n",
              "      <td>12:35:04</td>\n",
              "      <td>12</td>\n",
              "      <td>2021-09-10</td>\n",
              "      <td>PM</td>\n",
              "      <td>September</td>\n",
              "      <td>Friday</td>\n",
              "    </tr>\n",
              "  </tbody>\n",
              "</table>\n",
              "<p>1 rows × 37 columns</p>\n",
              "</div>\n",
              "    <div class=\"colab-df-buttons\">\n",
              "\n",
              "  <div class=\"colab-df-container\">\n",
              "    <button class=\"colab-df-convert\" onclick=\"convertToInteractive('df-0a12f1d5-bdf2-4217-9e6c-fc2f4fe98911')\"\n",
              "            title=\"Convert this dataframe to an interactive table.\"\n",
              "            style=\"display:none;\">\n",
              "\n",
              "  <svg xmlns=\"http://www.w3.org/2000/svg\" height=\"24px\" viewBox=\"0 -960 960 960\">\n",
              "    <path d=\"M120-120v-720h720v720H120Zm60-500h600v-160H180v160Zm220 220h160v-160H400v160Zm0 220h160v-160H400v160ZM180-400h160v-160H180v160Zm440 0h160v-160H620v160ZM180-180h160v-160H180v160Zm440 0h160v-160H620v160Z\"/>\n",
              "  </svg>\n",
              "    </button>\n",
              "\n",
              "  <style>\n",
              "    .colab-df-container {\n",
              "      display:flex;\n",
              "      gap: 12px;\n",
              "    }\n",
              "\n",
              "    .colab-df-convert {\n",
              "      background-color: #E8F0FE;\n",
              "      border: none;\n",
              "      border-radius: 50%;\n",
              "      cursor: pointer;\n",
              "      display: none;\n",
              "      fill: #1967D2;\n",
              "      height: 32px;\n",
              "      padding: 0 0 0 0;\n",
              "      width: 32px;\n",
              "    }\n",
              "\n",
              "    .colab-df-convert:hover {\n",
              "      background-color: #E2EBFA;\n",
              "      box-shadow: 0px 1px 2px rgba(60, 64, 67, 0.3), 0px 1px 3px 1px rgba(60, 64, 67, 0.15);\n",
              "      fill: #174EA6;\n",
              "    }\n",
              "\n",
              "    .colab-df-buttons div {\n",
              "      margin-bottom: 4px;\n",
              "    }\n",
              "\n",
              "    [theme=dark] .colab-df-convert {\n",
              "      background-color: #3B4455;\n",
              "      fill: #D2E3FC;\n",
              "    }\n",
              "\n",
              "    [theme=dark] .colab-df-convert:hover {\n",
              "      background-color: #434B5C;\n",
              "      box-shadow: 0px 1px 3px 1px rgba(0, 0, 0, 0.15);\n",
              "      filter: drop-shadow(0px 1px 2px rgba(0, 0, 0, 0.3));\n",
              "      fill: #FFFFFF;\n",
              "    }\n",
              "  </style>\n",
              "\n",
              "    <script>\n",
              "      const buttonEl =\n",
              "        document.querySelector('#df-0a12f1d5-bdf2-4217-9e6c-fc2f4fe98911 button.colab-df-convert');\n",
              "      buttonEl.style.display =\n",
              "        google.colab.kernel.accessAllowed ? 'block' : 'none';\n",
              "\n",
              "      async function convertToInteractive(key) {\n",
              "        const element = document.querySelector('#df-0a12f1d5-bdf2-4217-9e6c-fc2f4fe98911');\n",
              "        const dataTable =\n",
              "          await google.colab.kernel.invokeFunction('convertToInteractive',\n",
              "                                                    [key], {});\n",
              "        if (!dataTable) return;\n",
              "\n",
              "        const docLinkHtml = 'Like what you see? Visit the ' +\n",
              "          '<a target=\"_blank\" href=https://colab.research.google.com/notebooks/data_table.ipynb>data table notebook</a>'\n",
              "          + ' to learn more about interactive tables.';\n",
              "        element.innerHTML = '';\n",
              "        dataTable['output_type'] = 'display_data';\n",
              "        await google.colab.output.renderOutput(dataTable, element);\n",
              "        const docLink = document.createElement('div');\n",
              "        docLink.innerHTML = docLinkHtml;\n",
              "        element.appendChild(docLink);\n",
              "      }\n",
              "    </script>\n",
              "  </div>\n",
              "\n",
              "\n",
              "    </div>\n",
              "  </div>\n"
            ],
            "application/vnd.google.colaboratory.intrinsic+json": {
              "type": "dataframe",
              "variable_name": "test1PM"
            }
          },
          "metadata": {},
          "execution_count": 23
        }
      ]
    },
    {
      "cell_type": "code",
      "source": [
        "test2AM = pollution[(pollution['PerHour'] == 5)]\n",
        "test2AM.head(2)"
      ],
      "metadata": {
        "colab": {
          "base_uri": "https://localhost:8080/",
          "height": 231
        },
        "id": "SQBjfOvveUD_",
        "outputId": "7f6a0264-54ac-4a85-916d-e542d3b1a14d"
      },
      "execution_count": 24,
      "outputs": [
        {
          "output_type": "execute_result",
          "data": {
            "text/plain": [
              "         SensorID   latitude  longitude  bin0  bin1  bin2  bin3  bin4  bin5  \\\n",
              "7388  NYCP2_CS01A  40.847309 -73.870819   128    12     2     0     0     0   \n",
              "7389  NYCP2_CS01A  40.847309 -73.870819   144    20     2     0     1     1   \n",
              "\n",
              "      bin6  ...  temperature  humidity      pm25                    geometry  \\\n",
              "7388     0  ...         16.4      78.2  2.743527  POINT (-73.87082 40.84731)   \n",
              "7389     0  ...         16.4      78.3  4.503888  POINT (-73.87082 40.84731)   \n",
              "\n",
              "       PerTime  PerHour       Date  PMAM   PerMonth    PerDay  \n",
              "7388  05:00:03        5 2021-09-25    AM  September  Saturday  \n",
              "7389  05:00:08        5 2021-09-25    AM  September  Saturday  \n",
              "\n",
              "[2 rows x 37 columns]"
            ],
            "text/html": [
              "\n",
              "  <div id=\"df-8db10216-dc84-474d-a27e-3e00e3d7d6cb\" class=\"colab-df-container\">\n",
              "    <div>\n",
              "<style scoped>\n",
              "    .dataframe tbody tr th:only-of-type {\n",
              "        vertical-align: middle;\n",
              "    }\n",
              "\n",
              "    .dataframe tbody tr th {\n",
              "        vertical-align: top;\n",
              "    }\n",
              "\n",
              "    .dataframe thead th {\n",
              "        text-align: right;\n",
              "    }\n",
              "</style>\n",
              "<table border=\"1\" class=\"dataframe\">\n",
              "  <thead>\n",
              "    <tr style=\"text-align: right;\">\n",
              "      <th></th>\n",
              "      <th>SensorID</th>\n",
              "      <th>latitude</th>\n",
              "      <th>longitude</th>\n",
              "      <th>bin0</th>\n",
              "      <th>bin1</th>\n",
              "      <th>bin2</th>\n",
              "      <th>bin3</th>\n",
              "      <th>bin4</th>\n",
              "      <th>bin5</th>\n",
              "      <th>bin6</th>\n",
              "      <th>...</th>\n",
              "      <th>temperature</th>\n",
              "      <th>humidity</th>\n",
              "      <th>pm25</th>\n",
              "      <th>geometry</th>\n",
              "      <th>PerTime</th>\n",
              "      <th>PerHour</th>\n",
              "      <th>Date</th>\n",
              "      <th>PMAM</th>\n",
              "      <th>PerMonth</th>\n",
              "      <th>PerDay</th>\n",
              "    </tr>\n",
              "  </thead>\n",
              "  <tbody>\n",
              "    <tr>\n",
              "      <th>7388</th>\n",
              "      <td>NYCP2_CS01A</td>\n",
              "      <td>40.847309</td>\n",
              "      <td>-73.870819</td>\n",
              "      <td>128</td>\n",
              "      <td>12</td>\n",
              "      <td>2</td>\n",
              "      <td>0</td>\n",
              "      <td>0</td>\n",
              "      <td>0</td>\n",
              "      <td>0</td>\n",
              "      <td>...</td>\n",
              "      <td>16.4</td>\n",
              "      <td>78.2</td>\n",
              "      <td>2.743527</td>\n",
              "      <td>POINT (-73.87082 40.84731)</td>\n",
              "      <td>05:00:03</td>\n",
              "      <td>5</td>\n",
              "      <td>2021-09-25</td>\n",
              "      <td>AM</td>\n",
              "      <td>September</td>\n",
              "      <td>Saturday</td>\n",
              "    </tr>\n",
              "    <tr>\n",
              "      <th>7389</th>\n",
              "      <td>NYCP2_CS01A</td>\n",
              "      <td>40.847309</td>\n",
              "      <td>-73.870819</td>\n",
              "      <td>144</td>\n",
              "      <td>20</td>\n",
              "      <td>2</td>\n",
              "      <td>0</td>\n",
              "      <td>1</td>\n",
              "      <td>1</td>\n",
              "      <td>0</td>\n",
              "      <td>...</td>\n",
              "      <td>16.4</td>\n",
              "      <td>78.3</td>\n",
              "      <td>4.503888</td>\n",
              "      <td>POINT (-73.87082 40.84731)</td>\n",
              "      <td>05:00:08</td>\n",
              "      <td>5</td>\n",
              "      <td>2021-09-25</td>\n",
              "      <td>AM</td>\n",
              "      <td>September</td>\n",
              "      <td>Saturday</td>\n",
              "    </tr>\n",
              "  </tbody>\n",
              "</table>\n",
              "<p>2 rows × 37 columns</p>\n",
              "</div>\n",
              "    <div class=\"colab-df-buttons\">\n",
              "\n",
              "  <div class=\"colab-df-container\">\n",
              "    <button class=\"colab-df-convert\" onclick=\"convertToInteractive('df-8db10216-dc84-474d-a27e-3e00e3d7d6cb')\"\n",
              "            title=\"Convert this dataframe to an interactive table.\"\n",
              "            style=\"display:none;\">\n",
              "\n",
              "  <svg xmlns=\"http://www.w3.org/2000/svg\" height=\"24px\" viewBox=\"0 -960 960 960\">\n",
              "    <path d=\"M120-120v-720h720v720H120Zm60-500h600v-160H180v160Zm220 220h160v-160H400v160Zm0 220h160v-160H400v160ZM180-400h160v-160H180v160Zm440 0h160v-160H620v160ZM180-180h160v-160H180v160Zm440 0h160v-160H620v160Z\"/>\n",
              "  </svg>\n",
              "    </button>\n",
              "\n",
              "  <style>\n",
              "    .colab-df-container {\n",
              "      display:flex;\n",
              "      gap: 12px;\n",
              "    }\n",
              "\n",
              "    .colab-df-convert {\n",
              "      background-color: #E8F0FE;\n",
              "      border: none;\n",
              "      border-radius: 50%;\n",
              "      cursor: pointer;\n",
              "      display: none;\n",
              "      fill: #1967D2;\n",
              "      height: 32px;\n",
              "      padding: 0 0 0 0;\n",
              "      width: 32px;\n",
              "    }\n",
              "\n",
              "    .colab-df-convert:hover {\n",
              "      background-color: #E2EBFA;\n",
              "      box-shadow: 0px 1px 2px rgba(60, 64, 67, 0.3), 0px 1px 3px 1px rgba(60, 64, 67, 0.15);\n",
              "      fill: #174EA6;\n",
              "    }\n",
              "\n",
              "    .colab-df-buttons div {\n",
              "      margin-bottom: 4px;\n",
              "    }\n",
              "\n",
              "    [theme=dark] .colab-df-convert {\n",
              "      background-color: #3B4455;\n",
              "      fill: #D2E3FC;\n",
              "    }\n",
              "\n",
              "    [theme=dark] .colab-df-convert:hover {\n",
              "      background-color: #434B5C;\n",
              "      box-shadow: 0px 1px 3px 1px rgba(0, 0, 0, 0.15);\n",
              "      filter: drop-shadow(0px 1px 2px rgba(0, 0, 0, 0.3));\n",
              "      fill: #FFFFFF;\n",
              "    }\n",
              "  </style>\n",
              "\n",
              "    <script>\n",
              "      const buttonEl =\n",
              "        document.querySelector('#df-8db10216-dc84-474d-a27e-3e00e3d7d6cb button.colab-df-convert');\n",
              "      buttonEl.style.display =\n",
              "        google.colab.kernel.accessAllowed ? 'block' : 'none';\n",
              "\n",
              "      async function convertToInteractive(key) {\n",
              "        const element = document.querySelector('#df-8db10216-dc84-474d-a27e-3e00e3d7d6cb');\n",
              "        const dataTable =\n",
              "          await google.colab.kernel.invokeFunction('convertToInteractive',\n",
              "                                                    [key], {});\n",
              "        if (!dataTable) return;\n",
              "\n",
              "        const docLinkHtml = 'Like what you see? Visit the ' +\n",
              "          '<a target=\"_blank\" href=https://colab.research.google.com/notebooks/data_table.ipynb>data table notebook</a>'\n",
              "          + ' to learn more about interactive tables.';\n",
              "        element.innerHTML = '';\n",
              "        dataTable['output_type'] = 'display_data';\n",
              "        await google.colab.output.renderOutput(dataTable, element);\n",
              "        const docLink = document.createElement('div');\n",
              "        docLink.innerHTML = docLinkHtml;\n",
              "        element.appendChild(docLink);\n",
              "      }\n",
              "    </script>\n",
              "  </div>\n",
              "\n",
              "\n",
              "<div id=\"df-36225547-16c7-4cae-aa8a-ed8180689e3a\">\n",
              "  <button class=\"colab-df-quickchart\" onclick=\"quickchart('df-36225547-16c7-4cae-aa8a-ed8180689e3a')\"\n",
              "            title=\"Suggest charts\"\n",
              "            style=\"display:none;\">\n",
              "\n",
              "<svg xmlns=\"http://www.w3.org/2000/svg\" height=\"24px\"viewBox=\"0 0 24 24\"\n",
              "     width=\"24px\">\n",
              "    <g>\n",
              "        <path d=\"M19 3H5c-1.1 0-2 .9-2 2v14c0 1.1.9 2 2 2h14c1.1 0 2-.9 2-2V5c0-1.1-.9-2-2-2zM9 17H7v-7h2v7zm4 0h-2V7h2v10zm4 0h-2v-4h2v4z\"/>\n",
              "    </g>\n",
              "</svg>\n",
              "  </button>\n",
              "\n",
              "<style>\n",
              "  .colab-df-quickchart {\n",
              "      --bg-color: #E8F0FE;\n",
              "      --fill-color: #1967D2;\n",
              "      --hover-bg-color: #E2EBFA;\n",
              "      --hover-fill-color: #174EA6;\n",
              "      --disabled-fill-color: #AAA;\n",
              "      --disabled-bg-color: #DDD;\n",
              "  }\n",
              "\n",
              "  [theme=dark] .colab-df-quickchart {\n",
              "      --bg-color: #3B4455;\n",
              "      --fill-color: #D2E3FC;\n",
              "      --hover-bg-color: #434B5C;\n",
              "      --hover-fill-color: #FFFFFF;\n",
              "      --disabled-bg-color: #3B4455;\n",
              "      --disabled-fill-color: #666;\n",
              "  }\n",
              "\n",
              "  .colab-df-quickchart {\n",
              "    background-color: var(--bg-color);\n",
              "    border: none;\n",
              "    border-radius: 50%;\n",
              "    cursor: pointer;\n",
              "    display: none;\n",
              "    fill: var(--fill-color);\n",
              "    height: 32px;\n",
              "    padding: 0;\n",
              "    width: 32px;\n",
              "  }\n",
              "\n",
              "  .colab-df-quickchart:hover {\n",
              "    background-color: var(--hover-bg-color);\n",
              "    box-shadow: 0 1px 2px rgba(60, 64, 67, 0.3), 0 1px 3px 1px rgba(60, 64, 67, 0.15);\n",
              "    fill: var(--button-hover-fill-color);\n",
              "  }\n",
              "\n",
              "  .colab-df-quickchart-complete:disabled,\n",
              "  .colab-df-quickchart-complete:disabled:hover {\n",
              "    background-color: var(--disabled-bg-color);\n",
              "    fill: var(--disabled-fill-color);\n",
              "    box-shadow: none;\n",
              "  }\n",
              "\n",
              "  .colab-df-spinner {\n",
              "    border: 2px solid var(--fill-color);\n",
              "    border-color: transparent;\n",
              "    border-bottom-color: var(--fill-color);\n",
              "    animation:\n",
              "      spin 1s steps(1) infinite;\n",
              "  }\n",
              "\n",
              "  @keyframes spin {\n",
              "    0% {\n",
              "      border-color: transparent;\n",
              "      border-bottom-color: var(--fill-color);\n",
              "      border-left-color: var(--fill-color);\n",
              "    }\n",
              "    20% {\n",
              "      border-color: transparent;\n",
              "      border-left-color: var(--fill-color);\n",
              "      border-top-color: var(--fill-color);\n",
              "    }\n",
              "    30% {\n",
              "      border-color: transparent;\n",
              "      border-left-color: var(--fill-color);\n",
              "      border-top-color: var(--fill-color);\n",
              "      border-right-color: var(--fill-color);\n",
              "    }\n",
              "    40% {\n",
              "      border-color: transparent;\n",
              "      border-right-color: var(--fill-color);\n",
              "      border-top-color: var(--fill-color);\n",
              "    }\n",
              "    60% {\n",
              "      border-color: transparent;\n",
              "      border-right-color: var(--fill-color);\n",
              "    }\n",
              "    80% {\n",
              "      border-color: transparent;\n",
              "      border-right-color: var(--fill-color);\n",
              "      border-bottom-color: var(--fill-color);\n",
              "    }\n",
              "    90% {\n",
              "      border-color: transparent;\n",
              "      border-bottom-color: var(--fill-color);\n",
              "    }\n",
              "  }\n",
              "</style>\n",
              "\n",
              "  <script>\n",
              "    async function quickchart(key) {\n",
              "      const quickchartButtonEl =\n",
              "        document.querySelector('#' + key + ' button');\n",
              "      quickchartButtonEl.disabled = true;  // To prevent multiple clicks.\n",
              "      quickchartButtonEl.classList.add('colab-df-spinner');\n",
              "      try {\n",
              "        const charts = await google.colab.kernel.invokeFunction(\n",
              "            'suggestCharts', [key], {});\n",
              "      } catch (error) {\n",
              "        console.error('Error during call to suggestCharts:', error);\n",
              "      }\n",
              "      quickchartButtonEl.classList.remove('colab-df-spinner');\n",
              "      quickchartButtonEl.classList.add('colab-df-quickchart-complete');\n",
              "    }\n",
              "    (() => {\n",
              "      let quickchartButtonEl =\n",
              "        document.querySelector('#df-36225547-16c7-4cae-aa8a-ed8180689e3a button');\n",
              "      quickchartButtonEl.style.display =\n",
              "        google.colab.kernel.accessAllowed ? 'block' : 'none';\n",
              "    })();\n",
              "  </script>\n",
              "</div>\n",
              "\n",
              "    </div>\n",
              "  </div>\n"
            ],
            "application/vnd.google.colaboratory.intrinsic+json": {
              "type": "dataframe",
              "variable_name": "test2AM"
            }
          },
          "metadata": {},
          "execution_count": 24
        }
      ]
    },
    {
      "cell_type": "markdown",
      "source": [
        "**Now the data is ready we can do some graphs to be more clear in exploring**\n",
        "\n",
        "---\n",
        "\n"
      ],
      "metadata": {
        "id": "y6Ol3QwyL9AR"
      }
    },
    {
      "cell_type": "markdown",
      "source": [
        "**Histogram for the three sensors **\n"
      ],
      "metadata": {
        "id": "ujHk4UP9RMos"
      }
    },
    {
      "cell_type": "markdown",
      "source": [
        "1. SensorID_One_1"
      ],
      "metadata": {
        "id": "8QS5nU6HVSzn"
      }
    },
    {
      "cell_type": "code",
      "source": [
        "#S1 will contain all the rows from the pollution GeoDataFrame where the SensorID is 'NYCP2_CS01A'.\n",
        "S1 = pollution[pollution['SensorID'] == 'NYCP2_CS01A']"
      ],
      "metadata": {
        "id": "JNeR6RFHMNXv"
      },
      "execution_count": 25,
      "outputs": []
    },
    {
      "cell_type": "code",
      "source": [
        "# Using len() function helps in finding out the number of rows that contains 'NYCP2_CS01A' SensorID.\n",
        "num_rows_S1 = len(S1)\n",
        "print(\"Number of rows in S1:\", num_rows_S1)"
      ],
      "metadata": {
        "colab": {
          "base_uri": "https://localhost:8080/"
        },
        "id": "WqMP4wc-MpwX",
        "outputId": "0b4289bc-9a16-4c7c-8e95-7c89825778c6"
      },
      "execution_count": 26,
      "outputs": [
        {
          "output_type": "stream",
          "name": "stdout",
          "text": [
            "Number of rows in S1: 137455\n"
          ]
        }
      ]
    },
    {
      "cell_type": "code",
      "source": [
        "# Calculate the frequency of each hour\n",
        "hourly_frequency_S1 = S1.groupby('PerHour').size().sort_index()"
      ],
      "metadata": {
        "id": "V8xufVtPY9a7"
      },
      "execution_count": 27,
      "outputs": []
    },
    {
      "cell_type": "code",
      "source": [
        "# Find the hour with the maximum frequency\n",
        "print(f\"Hour with maximum frequency for SensorID 'S1': {hourly_frequency_S1.idxmax()} with frequency: {hourly_frequency_S1.max()}\")"
      ],
      "metadata": {
        "colab": {
          "base_uri": "https://localhost:8080/"
        },
        "id": "Pt4VwEYTZMlK",
        "outputId": "d0de161d-1869-4d45-ca89-1563e190a5b2"
      },
      "execution_count": 28,
      "outputs": [
        {
          "output_type": "stream",
          "name": "stdout",
          "text": [
            "Hour with maximum frequency for SensorID 'S1': 14 with frequency: 12440\n"
          ]
        }
      ]
    },
    {
      "cell_type": "markdown",
      "source": [
        "We can figure out that most of the sensors are in 14 which means 2:00PM, to be more sure about that we can have a histogram this will give us a clear picture about the Sensor1."
      ],
      "metadata": {
        "id": "HGK4fI47bDmF"
      }
    },
    {
      "cell_type": "code",
      "source": [
        "#Creating a histogram that shows the trend of Sensor 1.\n",
        "S1 = pollution[pollution['SensorID'] == 'NYCP2_CS01A']\n",
        "y_column = 'PerHour'\n",
        "\n",
        "sns.histplot(data=S1, x=y_column, bins=np.arange(0, 24, 1))\n",
        "plt.xlabel('PerHour')\n",
        "plt.ylabel('Count')\n",
        "plt.title('Histogram Of SensorID 1 for PerHour Count')\n",
        "plt.show()"
      ],
      "metadata": {
        "colab": {
          "base_uri": "https://localhost:8080/",
          "height": 472
        },
        "id": "PZalqnllNKWg",
        "outputId": "157a94a7-bf23-4024-cd75-c469fc423787"
      },
      "execution_count": 29,
      "outputs": [
        {
          "output_type": "display_data",
          "data": {
            "text/plain": [
              "<Figure size 640x480 with 1 Axes>"
            ],
            "image/png": "[encoded data removed]"
          },
          "metadata": {}
        }
      ]
    },
    {
      "cell_type": "code",
      "source": [
        "#Creating a histogram for months column for exploring\n",
        "S1 = pollution[pollution['SensorID'] == 'NYCP2_CS01A']\n",
        "y_column = 'PerMonth'\n",
        "\n",
        "sns.histplot(data=S1, x=y_column, bins=20)\n",
        "plt.xlabel('Permonth')\n",
        "plt.ylabel('count')\n",
        "plt.title('Histogram of sensor1 for permonth count')\n",
        "plt.show()"
      ],
      "metadata": {
        "colab": {
          "base_uri": "https://localhost:8080/",
          "height": 472
        },
        "id": "QBwa8DJkCCb8",
        "outputId": "73412fb4-2d84-4ae1-bf86-4a2afb8cdb0d"
      },
      "execution_count": 30,
      "outputs": [
        {
          "output_type": "display_data",
          "data": {
            "text/plain": [
              "<Figure size 640x480 with 1 Axes>"
            ],
            "image/png": "[encoded data removed]"
          },
          "metadata": {}
        }
      ]
    },
    {
      "cell_type": "code",
      "source": [
        "S1 = pollution[pollution['SensorID'] == 'NYCP2_CS01A']\n",
        "y_column = 'PerDay'\n",
        "\n",
        "sns.histplot(data=S1, x=y_column, bins=20)\n",
        "plt.xlabel('PerDay')\n",
        "plt.ylabel('count')\n",
        "plt.title('Histogram of sensor1 for perday count')\n",
        "plt.show()"
      ],
      "metadata": {
        "colab": {
          "base_uri": "https://localhost:8080/",
          "height": 472
        },
        "id": "rivA21ITCxBY",
        "outputId": "d73b8c2d-43b2-47bf-8105-1f305e433ea5"
      },
      "execution_count": 31,
      "outputs": [
        {
          "output_type": "display_data",
          "data": {
            "text/plain": [
              "<Figure size 640x480 with 1 Axes>"
            ],
            "image/png": "[encoded data removed]"
          },
          "metadata": {}
        }
      ]
    },
    {
      "cell_type": "markdown",
      "source": [
        "2. SensorID_Two_2"
      ],
      "metadata": {
        "id": "Hj-GqnQVREbG"
      }
    },
    {
      "cell_type": "code",
      "source": [
        "#S2 will contain all the rows from the pollution GeoDataFrame where the SensorID is 'NYCP2_CS02A'.\n",
        "S2 = pollution[pollution['SensorID'] == 'NYCP2_CS02A']"
      ],
      "metadata": {
        "id": "4JbUbOC5QaGW"
      },
      "execution_count": 32,
      "outputs": []
    },
    {
      "cell_type": "code",
      "source": [
        "# Using len() function helps in finding out the number of rows that contains 'NYCP2_CS02A' SensorID.\n",
        "num_rows_S2 = len(S2)\n",
        "print(\"Number of rows in S2:\", num_rows_S2)"
      ],
      "metadata": {
        "colab": {
          "base_uri": "https://localhost:8080/"
        },
        "id": "pa6-0sH-Qf22",
        "outputId": "11717b5c-9fb8-4dc3-ebab-8ac7110263d0"
      },
      "execution_count": 33,
      "outputs": [
        {
          "output_type": "stream",
          "name": "stdout",
          "text": [
            "Number of rows in S2: 24044\n"
          ]
        }
      ]
    },
    {
      "cell_type": "code",
      "source": [
        "# Calculate the frequency of each hour\n",
        "hourly_frequency_S2 = S2.groupby('PerHour').size().sort_index()"
      ],
      "metadata": {
        "id": "Urbs58I1gk33"
      },
      "execution_count": 34,
      "outputs": []
    },
    {
      "cell_type": "code",
      "source": [
        "# Find the hour with the maximum frequency\n",
        "print(f\"Hour with maximum frequency for SensorID 'S2': {hourly_frequency_S2.idxmax()} with frequency: {hourly_frequency_S2.max()}\")"
      ],
      "metadata": {
        "colab": {
          "base_uri": "https://localhost:8080/"
        },
        "id": "kOYTbBULgp6K",
        "outputId": "56625647-53a4-415a-b7d4-60a7298a424a"
      },
      "execution_count": 35,
      "outputs": [
        {
          "output_type": "stream",
          "name": "stdout",
          "text": [
            "Hour with maximum frequency for SensorID 'S2': 12 with frequency: 3437\n"
          ]
        }
      ]
    },
    {
      "cell_type": "markdown",
      "source": [
        "We can figure out that most of the sensors are in 12 which means 12:00 PM, to be more sure about that we can have a histogram this will give us a clear picture about the Sensor2."
      ],
      "metadata": {
        "id": "mbvMG8uugxQj"
      }
    },
    {
      "cell_type": "code",
      "source": [
        "#Creating a histogram that shows the trend of Sensor 2.\n",
        "S2 = pollution[pollution['SensorID'] == 'NYCP2_CS02A']\n",
        "y_column = 'PerHour'\n",
        "\n",
        "sns.histplot(data=S1, x=y_column,  bins=np.arange(0, 24, 1))\n",
        "plt.xlabel('PerHour')\n",
        "plt.ylabel('Count')\n",
        "plt.title('Histogram Of SensorID 2 for PerHour Count')\n",
        "plt.show()"
      ],
      "metadata": {
        "colab": {
          "base_uri": "https://localhost:8080/",
          "height": 472
        },
        "id": "aEHFItgyQmdw",
        "outputId": "2c582689-8a87-4d9f-8c91-dd03190bbb74"
      },
      "execution_count": 36,
      "outputs": [
        {
          "output_type": "display_data",
          "data": {
            "text/plain": [
              "<Figure size 640x480 with 1 Axes>"
            ],
            "image/png": "[encoded data removed]"
          },
          "metadata": {}
        }
      ]
    },
    {
      "cell_type": "code",
      "source": [
        "S2 = pollution[pollution['SensorID'] == 'NYCP2_CS02A']\n",
        "y_column = 'PerMonth'\n",
        "\n",
        "sns.histplot(data=S2, x=y_column, bins=20)\n",
        "plt.xlabel('Permonth')\n",
        "plt.ylabel('count')\n",
        "plt.title('Histogram of sensor2 for permonth count')\n",
        "plt.show()"
      ],
      "metadata": {
        "colab": {
          "base_uri": "https://localhost:8080/",
          "height": 472
        },
        "id": "u_LBa98TCTFP",
        "outputId": "03e70e59-bddf-4fe6-c192-8531f51d0b1a"
      },
      "execution_count": 37,
      "outputs": [
        {
          "output_type": "display_data",
          "data": {
            "text/plain": [
              "<Figure size 640x480 with 1 Axes>"
            ],
            "image/png": "[encoded data removed]"
          },
          "metadata": {}
        }
      ]
    },
    {
      "cell_type": "code",
      "source": [
        "S2 = pollution[pollution['SensorID'] == 'NYCP2_CS02A']\n",
        "y_column = 'PerDay'\n",
        "\n",
        "sns.histplot(data=S2, x=y_column, bins=20)\n",
        "plt.xlabel('PerDay')\n",
        "plt.ylabel('count')\n",
        "plt.title('Histogram of sensor2 for perday count')\n",
        "plt.show()"
      ],
      "metadata": {
        "colab": {
          "base_uri": "https://localhost:8080/",
          "height": 472
        },
        "id": "dv8leiOxC6W7",
        "outputId": "9242b268-4089-421b-aad4-5a47164d56b2"
      },
      "execution_count": 38,
      "outputs": [
        {
          "output_type": "display_data",
          "data": {
            "text/plain": [
              "<Figure size 640x480 with 1 Axes>"
            ],
            "image/png": "[encoded data removed]"
          },
          "metadata": {}
        }
      ]
    },
    {
      "cell_type": "markdown",
      "source": [
        "3. SensorID_Three_3"
      ],
      "metadata": {
        "id": "evI3gHYqRnmP"
      }
    },
    {
      "cell_type": "code",
      "source": [
        "#S3 will contain all the rows from the pollution GeoDataFrame where the SensorID is 'NYCP2_CS03A'.\n",
        "S3 = pollution[pollution['SensorID'] == 'NYCP2_CS03A']"
      ],
      "metadata": {
        "id": "HAH5B0EZRrv6"
      },
      "execution_count": 39,
      "outputs": []
    },
    {
      "cell_type": "code",
      "source": [
        "# Using len() function helps in finding out the number of rows that contains 'NYCP2_CS03A' SensorID.\n",
        "num_rows_S3 = len(S3)\n",
        "print(\"Number of rows in S3:\", num_rows_S3)"
      ],
      "metadata": {
        "colab": {
          "base_uri": "https://localhost:8080/"
        },
        "id": "UV7JTuqGRwgi",
        "outputId": "704e6dbd-86a1-46a2-ff66-036ffde232c2"
      },
      "execution_count": 40,
      "outputs": [
        {
          "output_type": "stream",
          "name": "stdout",
          "text": [
            "Number of rows in S3: 8500\n"
          ]
        }
      ]
    },
    {
      "cell_type": "code",
      "source": [
        "# Calculate the frequency of each hour\n",
        "hourly_frequency_S3 = S3.groupby('PerHour').size().sort_index()"
      ],
      "metadata": {
        "id": "NyooRnIRhOXI"
      },
      "execution_count": 41,
      "outputs": []
    },
    {
      "cell_type": "code",
      "source": [
        "# Find the hour with the maximum frequency\n",
        "print(f\"Hour with maximum frequency for SensorID 'S3': {hourly_frequency_S3.idxmax()} with frequency: {hourly_frequency_S3.max()}\")"
      ],
      "metadata": {
        "colab": {
          "base_uri": "https://localhost:8080/"
        },
        "id": "gAp6mq8WhSuY",
        "outputId": "4109f1ca-e321-4e98-f884-72fa7d17448b"
      },
      "execution_count": 42,
      "outputs": [
        {
          "output_type": "stream",
          "name": "stdout",
          "text": [
            "Hour with maximum frequency for SensorID 'S3': 13 with frequency: 1636\n"
          ]
        }
      ]
    },
    {
      "cell_type": "markdown",
      "source": [
        "We can figure out that most of the sensors are in 13 which means 1:00 PM, to be more sure about that we can have a histogram this will give us a clear picture about the Sensor2."
      ],
      "metadata": {
        "id": "cEe-p0KRhaBp"
      }
    },
    {
      "cell_type": "code",
      "source": [
        "#Creating a histogram that shows the trend of Sensor 3.\n",
        "S3 = pollution[pollution['SensorID'] == 'NYCP2_CS03A']\n",
        "y_column = 'PerHour'\n",
        "\n",
        "sns.histplot(data=S1, x=y_column, bins=np.arange(0, 24, 1))\n",
        "plt.xlabel('PerHour')\n",
        "plt.ylabel('Count')\n",
        "plt.title('Histogram Of SensorID 3 for PerHour Count')\n",
        "plt.show()"
      ],
      "metadata": {
        "colab": {
          "base_uri": "https://localhost:8080/",
          "height": 472
        },
        "id": "tG_U0-Z8R0T0",
        "outputId": "1c3763b8-aeec-47c3-f863-20d20f5c1a17"
      },
      "execution_count": 43,
      "outputs": [
        {
          "output_type": "display_data",
          "data": {
            "text/plain": [
              "<Figure size 640x480 with 1 Axes>"
            ],
            "image/png": "[encoded data removed]"
          },
          "metadata": {}
        }
      ]
    },
    {
      "cell_type": "code",
      "source": [
        "S3 = pollution[pollution['SensorID'] == 'NYCP2_CS02A']\n",
        "y_column = 'PerMonth'\n",
        "\n",
        "sns.histplot(data=S3, x=y_column, bins=20)\n",
        "plt.xlabel('Permonth')\n",
        "plt.ylabel('count')\n",
        "plt.title('Histogram of sensor3 for permonth count')\n",
        "plt.show()"
      ],
      "metadata": {
        "colab": {
          "base_uri": "https://localhost:8080/",
          "height": 472
        },
        "id": "Alao_ymvCZ0k",
        "outputId": "ed202744-9d51-4890-f260-d5e5ecd2d9a6"
      },
      "execution_count": 44,
      "outputs": [
        {
          "output_type": "display_data",
          "data": {
            "text/plain": [
              "<Figure size 640x480 with 1 Axes>"
            ],
            "image/png": "[encoded data removed]"
          },
          "metadata": {}
        }
      ]
    },
    {
      "cell_type": "code",
      "source": [
        "S3 = pollution[pollution['SensorID'] == 'NYCP2_CS03A']\n",
        "y_column = 'PerDay'\n",
        "\n",
        "sns.histplot(data=S3, x=y_column, bins=20)\n",
        "plt.xlabel('PerDay')\n",
        "plt.ylabel('count')\n",
        "plt.title('Histogram of sensor3 for perday count')\n",
        "plt.show()"
      ],
      "metadata": {
        "colab": {
          "base_uri": "https://localhost:8080/",
          "height": 472
        },
        "id": "ooVt--v6DAR9",
        "outputId": "80563855-e325-4383-8e9f-c53322be4d62"
      },
      "execution_count": 45,
      "outputs": [
        {
          "output_type": "display_data",
          "data": {
            "text/plain": [
              "<Figure size 640x480 with 1 Axes>"
            ],
            "image/png": "[encoded data removed]"
          },
          "metadata": {}
        }
      ]
    },
    {
      "cell_type": "code",
      "source": [
        "#Here is the number of rows in each sensor which\n",
        "print(f\"Number of rows in S1: {num_rows_S1}\")\n",
        "print(f\"Number of rows in S2: {num_rows_S2}\")\n",
        "print(f\"Number of rows in S3: {num_rows_S3}\")\n",
        "print(f\"Number of rows for all sensors: {num_rows_S1+num_rows_S2+num_rows_S3}\")"
      ],
      "metadata": {
        "colab": {
          "base_uri": "https://localhost:8080/"
        },
        "id": "7k5RF6MOR6SX",
        "outputId": "e9f398ff-6653-48bd-8036-8b386e3c5fbb"
      },
      "execution_count": 46,
      "outputs": [
        {
          "output_type": "stream",
          "name": "stdout",
          "text": [
            "Number of rows in S1: 137455\n",
            "Number of rows in S2: 24044\n",
            "Number of rows in S3: 8500\n",
            "Number of rows for all sensors: 169999\n"
          ]
        }
      ]
    },
    {
      "cell_type": "code",
      "source": [
        "# Here is the distribuation for all sensors the Sensor 1,2, and 3, as we can see the sensors are activate more at 14:00 which means 2:00PM.\n",
        "# Calculate the total frequency for each hour across all sensors\n",
        "total_hourly_frequency = hourly_frequency_S1.add(hourly_frequency_S2, fill_value=0).add(hourly_frequency_S3, fill_value=0).sort_index()\n",
        "\n",
        "# Plot the total frequency of readings for each hour across all sensors\n",
        "plt.figure(figsize=(10, 5))\n",
        "sns.barplot(x=total_hourly_frequency.index, y=total_hourly_frequency.values, color='blue', alpha=0.7)\n",
        "\n",
        "plt.xlabel('Hour')\n",
        "plt.ylabel('Total Frequency')\n",
        "plt.title('Total Hourly Frequency of Sensor Readings for All Sensors')\n",
        "plt.xticks(range(24))\n",
        "plt.show()"
      ],
      "metadata": {
        "colab": {
          "base_uri": "https://localhost:8080/",
          "height": 487
        },
        "id": "gWG1V6RVjnS9",
        "outputId": "817b5d16-4357-4ab3-a032-e1d4cf61fb36"
      },
      "execution_count": 47,
      "outputs": [
        {
          "output_type": "display_data",
          "data": {
            "text/plain": [
              "<Figure size 1000x500 with 1 Axes>"
            ],
            "image/png": "[encoded data removed]"
          },
          "metadata": {}
        }
      ]
    },
    {
      "cell_type": "markdown",
      "source": [
        "We figure out the most of the sensors are having approximetaly same distribuation. Also, we figure out the most frequencies for each sensor this will help us to find the optimal place of each sensor.\n",
        "\n",
        "We have three sensors and each of the sensor have more frequency at different time.\n",
        "\n",
        "1. First sensor having more frequencies at 2:00 PM\n",
        "2. Secound Sensor having more frequencies at 12:00 PM\n",
        "3. Third sensor having more frequencies at 1:00PM\n",
        "\n",
        "**In conclusion, after the analyzing part, I can highlight that the sensors are activate from 12:00PM to 2:00PM or 14 more than other timing.**\n",
        "\n",
        "---\n",
        "\n",
        "\n",
        "---\n",
        "\n",
        "\n"
      ],
      "metadata": {
        "id": "Hai0m9XvW0FB"
      }
    },
    {
      "cell_type": "markdown",
      "source": [
        "After finalizing the data, we will divide the data based on Septermber month, in Friday at 12:00 PM."
      ],
      "metadata": {
        "id": "HeWiFZ89Ec9C"
      }
    },
    {
      "cell_type": "code",
      "source": [
        "pollution.head()"
      ],
      "metadata": {
        "colab": {
          "base_uri": "https://localhost:8080/",
          "height": 429
        },
        "id": "uzmJwY1GFQcA",
        "outputId": "2dca844d-a1b7-4ba7-98f2-5b5c71a71b04"
      },
      "execution_count": 48,
      "outputs": [
        {
          "output_type": "execute_result",
          "data": {
            "text/plain": [
              "      SensorID   latitude  longitude  bin0  bin1  bin2  bin3  bin4  bin5  \\\n",
              "0  NYCP2_CS01A  40.847672 -73.869316    11     1     1     0     0     0   \n",
              "1  NYCP2_CS01A  40.847668 -73.869316    22     4     1     0     0     2   \n",
              "2  NYCP2_CS01A  40.847649 -73.869362    40     1     1     0     0     1   \n",
              "3  NYCP2_CS01A  40.847649 -73.869362    26     1     0     0     0     0   \n",
              "4  NYCP2_CS01A  40.847649 -73.869362    44     4     0     1     0     0   \n",
              "\n",
              "   bin6  ...  temperature  humidity      pm25                    geometry  \\\n",
              "0     0  ...         23.7      57.3  4.508813  POINT (-73.86932 40.84767)   \n",
              "1     0  ...         23.7      57.8  5.462420  POINT (-73.86932 40.84767)   \n",
              "2     0  ...         23.7      57.8  5.154881  POINT (-73.86936 40.84765)   \n",
              "3     0  ...         23.6      57.6  4.508813  POINT (-73.86936 40.84765)   \n",
              "4     1  ...         23.6      57.5  5.539503  POINT (-73.86936 40.84765)   \n",
              "\n",
              "    PerTime  PerHour       Date  PMAM   PerMonth  PerDay  \n",
              "0  12:35:04       12 2021-09-10    PM  September  Friday  \n",
              "1  12:35:08       12 2021-09-10    PM  September  Friday  \n",
              "2  12:35:13       12 2021-09-10    PM  September  Friday  \n",
              "3  12:35:18       12 2021-09-10    PM  September  Friday  \n",
              "4  12:35:23       12 2021-09-10    PM  September  Friday  \n",
              "\n",
              "[5 rows x 37 columns]"
            ],
            "text/html": [
              "\n",
              "  <div id=\"df-8afabf41-96a4-4c22-a399-9e82872838cb\" class=\"colab-df-container\">\n",
              "    <div>\n",
              "<style scoped>\n",
              "    .dataframe tbody tr th:only-of-type {\n",
              "        vertical-align: middle;\n",
              "    }\n",
              "\n",
              "    .dataframe tbody tr th {\n",
              "        vertical-align: top;\n",
              "    }\n",
              "\n",
              "    .dataframe thead th {\n",
              "        text-align: right;\n",
              "    }\n",
              "</style>\n",
              "<table border=\"1\" class=\"dataframe\">\n",
              "  <thead>\n",
              "    <tr style=\"text-align: right;\">\n",
              "      <th></th>\n",
              "      <th>SensorID</th>\n",
              "      <th>latitude</th>\n",
              "      <th>longitude</th>\n",
              "      <th>bin0</th>\n",
              "      <th>bin1</th>\n",
              "      <th>bin2</th>\n",
              "      <th>bin3</th>\n",
              "      <th>bin4</th>\n",
              "      <th>bin5</th>\n",
              "      <th>bin6</th>\n",
              "      <th>...</th>\n",
              "      <th>temperature</th>\n",
              "      <th>humidity</th>\n",
              "      <th>pm25</th>\n",
              "      <th>geometry</th>\n",
              "      <th>PerTime</th>\n",
              "      <th>PerHour</th>\n",
              "      <th>Date</th>\n",
              "      <th>PMAM</th>\n",
              "      <th>PerMonth</th>\n",
              "      <th>PerDay</th>\n",
              "    </tr>\n",
              "  </thead>\n",
              "  <tbody>\n",
              "    <tr>\n",
              "      <th>0</th>\n",
              "      <td>NYCP2_CS01A</td>\n",
              "      <td>40.847672</td>\n",
              "      <td>-73.869316</td>\n",
              "      <td>11</td>\n",
              "      <td>1</td>\n",
              "      <td>1</td>\n",
              "      <td>0</td>\n",
              "      <td>0</td>\n",
              "      <td>0</td>\n",
              "      <td>0</td>\n",
              "      <td>...</td>\n",
              "      <td>23.7</td>\n",
              "      <td>57.3</td>\n",
              "      <td>4.508813</td>\n",
              "      <td>POINT (-73.86932 40.84767)</td>\n",
              "      <td>12:35:04</td>\n",
              "      <td>12</td>\n",
              "      <td>2021-09-10</td>\n",
              "      <td>PM</td>\n",
              "      <td>September</td>\n",
              "      <td>Friday</td>\n",
              "    </tr>\n",
              "    <tr>\n",
              "      <th>1</th>\n",
              "      <td>NYCP2_CS01A</td>\n",
              "      <td>40.847668</td>\n",
              "      <td>-73.869316</td>\n",
              "      <td>22</td>\n",
              "      <td>4</td>\n",
              "      <td>1</td>\n",
              "      <td>0</td>\n",
              "      <td>0</td>\n",
              "      <td>2</td>\n",
              "      <td>0</td>\n",
              "      <td>...</td>\n",
              "      <td>23.7</td>\n",
              "      <td>57.8</td>\n",
              "      <td>5.462420</td>\n",
              "      <td>POINT (-73.86932 40.84767)</td>\n",
              "      <td>12:35:08</td>\n",
              "      <td>12</td>\n",
              "      <td>2021-09-10</td>\n",
              "      <td>PM</td>\n",
              "      <td>September</td>\n",
              "      <td>Friday</td>\n",
              "    </tr>\n",
              "    <tr>\n",
              "      <th>2</th>\n",
              "      <td>NYCP2_CS01A</td>\n",
              "      <td>40.847649</td>\n",
              "      <td>-73.869362</td>\n",
              "      <td>40</td>\n",
              "      <td>1</td>\n",
              "      <td>1</td>\n",
              "      <td>0</td>\n",
              "      <td>0</td>\n",
              "      <td>1</td>\n",
              "      <td>0</td>\n",
              "      <td>...</td>\n",
              "      <td>23.7</td>\n",
              "      <td>57.8</td>\n",
              "      <td>5.154881</td>\n",
              "      <td>POINT (-73.86936 40.84765)</td>\n",
              "      <td>12:35:13</td>\n",
              "      <td>12</td>\n",
              "      <td>2021-09-10</td>\n",
              "      <td>PM</td>\n",
              "      <td>September</td>\n",
              "      <td>Friday</td>\n",
              "    </tr>\n",
              "    <tr>\n",
              "      <th>3</th>\n",
              "      <td>NYCP2_CS01A</td>\n",
              "      <td>40.847649</td>\n",
              "      <td>-73.869362</td>\n",
              "      <td>26</td>\n",
              "      <td>1</td>\n",
              "      <td>0</td>\n",
              "      <td>0</td>\n",
              "      <td>0</td>\n",
              "      <td>0</td>\n",
              "      <td>0</td>\n",
              "      <td>...</td>\n",
              "      <td>23.6</td>\n",
              "      <td>57.6</td>\n",
              "      <td>4.508813</td>\n",
              "      <td>POINT (-73.86936 40.84765)</td>\n",
              "      <td>12:35:18</td>\n",
              "      <td>12</td>\n",
              "      <td>2021-09-10</td>\n",
              "      <td>PM</td>\n",
              "      <td>September</td>\n",
              "      <td>Friday</td>\n",
              "    </tr>\n",
              "    <tr>\n",
              "      <th>4</th>\n",
              "      <td>NYCP2_CS01A</td>\n",
              "      <td>40.847649</td>\n",
              "      <td>-73.869362</td>\n",
              "      <td>44</td>\n",
              "      <td>4</td>\n",
              "      <td>0</td>\n",
              "      <td>1</td>\n",
              "      <td>0</td>\n",
              "      <td>0</td>\n",
              "      <td>1</td>\n",
              "      <td>...</td>\n",
              "      <td>23.6</td>\n",
              "      <td>57.5</td>\n",
              "      <td>5.539503</td>\n",
              "      <td>POINT (-73.86936 40.84765)</td>\n",
              "      <td>12:35:23</td>\n",
              "      <td>12</td>\n",
              "      <td>2021-09-10</td>\n",
              "      <td>PM</td>\n",
              "      <td>September</td>\n",
              "      <td>Friday</td>\n",
              "    </tr>\n",
              "  </tbody>\n",
              "</table>\n",
              "<p>5 rows × 37 columns</p>\n",
              "</div>\n",
              "    <div class=\"colab-df-buttons\">\n",
              "\n",
              "  <div class=\"colab-df-container\">\n",
              "    <button class=\"colab-df-convert\" onclick=\"convertToInteractive('df-8afabf41-96a4-4c22-a399-9e82872838cb')\"\n",
              "            title=\"Convert this dataframe to an interactive table.\"\n",
              "            style=\"display:none;\">\n",
              "\n",
              "  <svg xmlns=\"http://www.w3.org/2000/svg\" height=\"24px\" viewBox=\"0 -960 960 960\">\n",
              "    <path d=\"M120-120v-720h720v720H120Zm60-500h600v-160H180v160Zm220 220h160v-160H400v160Zm0 220h160v-160H400v160ZM180-400h160v-160H180v160Zm440 0h160v-160H620v160ZM180-180h160v-160H180v160Zm440 0h160v-160H620v160Z\"/>\n",
              "  </svg>\n",
              "    </button>\n",
              "\n",
              "  <style>\n",
              "    .colab-df-container {\n",
              "      display:flex;\n",
              "      gap: 12px;\n",
              "    }\n",
              "\n",
              "    .colab-df-convert {\n",
              "      background-color: #E8F0FE;\n",
              "      border: none;\n",
              "      border-radius: 50%;\n",
              "      cursor: pointer;\n",
              "      display: none;\n",
              "      fill: #1967D2;\n",
              "      height: 32px;\n",
              "      padding: 0 0 0 0;\n",
              "      width: 32px;\n",
              "    }\n",
              "\n",
              "    .colab-df-convert:hover {\n",
              "      background-color: #E2EBFA;\n",
              "      box-shadow: 0px 1px 2px rgba(60, 64, 67, 0.3), 0px 1px 3px 1px rgba(60, 64, 67, 0.15);\n",
              "      fill: #174EA6;\n",
              "    }\n",
              "\n",
              "    .colab-df-buttons div {\n",
              "      margin-bottom: 4px;\n",
              "    }\n",
              "\n",
              "    [theme=dark] .colab-df-convert {\n",
              "      background-color: #3B4455;\n",
              "      fill: #D2E3FC;\n",
              "    }\n",
              "\n",
              "    [theme=dark] .colab-df-convert:hover {\n",
              "      background-color: #434B5C;\n",
              "      box-shadow: 0px 1px 3px 1px rgba(0, 0, 0, 0.15);\n",
              "      filter: drop-shadow(0px 1px 2px rgba(0, 0, 0, 0.3));\n",
              "      fill: #FFFFFF;\n",
              "    }\n",
              "  </style>\n",
              "\n",
              "    <script>\n",
              "      const buttonEl =\n",
              "        document.querySelector('#df-8afabf41-96a4-4c22-a399-9e82872838cb button.colab-df-convert');\n",
              "      buttonEl.style.display =\n",
              "        google.colab.kernel.accessAllowed ? 'block' : 'none';\n",
              "\n",
              "      async function convertToInteractive(key) {\n",
              "        const element = document.querySelector('#df-8afabf41-96a4-4c22-a399-9e82872838cb');\n",
              "        const dataTable =\n",
              "          await google.colab.kernel.invokeFunction('convertToInteractive',\n",
              "                                                    [key], {});\n",
              "        if (!dataTable) return;\n",
              "\n",
              "        const docLinkHtml = 'Like what you see? Visit the ' +\n",
              "          '<a target=\"_blank\" href=https://colab.research.google.com/notebooks/data_table.ipynb>data table notebook</a>'\n",
              "          + ' to learn more about interactive tables.';\n",
              "        element.innerHTML = '';\n",
              "        dataTable['output_type'] = 'display_data';\n",
              "        await google.colab.output.renderOutput(dataTable, element);\n",
              "        const docLink = document.createElement('div');\n",
              "        docLink.innerHTML = docLinkHtml;\n",
              "        element.appendChild(docLink);\n",
              "      }\n",
              "    </script>\n",
              "  </div>\n",
              "\n",
              "\n",
              "<div id=\"df-59a5a495-0a30-44d7-915e-3b197b27e867\">\n",
              "  <button class=\"colab-df-quickchart\" onclick=\"quickchart('df-59a5a495-0a30-44d7-915e-3b197b27e867')\"\n",
              "            title=\"Suggest charts\"\n",
              "            style=\"display:none;\">\n",
              "\n",
              "<svg xmlns=\"http://www.w3.org/2000/svg\" height=\"24px\"viewBox=\"0 0 24 24\"\n",
              "     width=\"24px\">\n",
              "    <g>\n",
              "        <path d=\"M19 3H5c-1.1 0-2 .9-2 2v14c0 1.1.9 2 2 2h14c1.1 0 2-.9 2-2V5c0-1.1-.9-2-2-2zM9 17H7v-7h2v7zm4 0h-2V7h2v10zm4 0h-2v-4h2v4z\"/>\n",
              "    </g>\n",
              "</svg>\n",
              "  </button>\n",
              "\n",
              "<style>\n",
              "  .colab-df-quickchart {\n",
              "      --bg-color: #E8F0FE;\n",
              "      --fill-color: #1967D2;\n",
              "      --hover-bg-color: #E2EBFA;\n",
              "      --hover-fill-color: #174EA6;\n",
              "      --disabled-fill-color: #AAA;\n",
              "      --disabled-bg-color: #DDD;\n",
              "  }\n",
              "\n",
              "  [theme=dark] .colab-df-quickchart {\n",
              "      --bg-color: #3B4455;\n",
              "      --fill-color: #D2E3FC;\n",
              "      --hover-bg-color: #434B5C;\n",
              "      --hover-fill-color: #FFFFFF;\n",
              "      --disabled-bg-color: #3B4455;\n",
              "      --disabled-fill-color: #666;\n",
              "  }\n",
              "\n",
              "  .colab-df-quickchart {\n",
              "    background-color: var(--bg-color);\n",
              "    border: none;\n",
              "    border-radius: 50%;\n",
              "    cursor: pointer;\n",
              "    display: none;\n",
              "    fill: var(--fill-color);\n",
              "    height: 32px;\n",
              "    padding: 0;\n",
              "    width: 32px;\n",
              "  }\n",
              "\n",
              "  .colab-df-quickchart:hover {\n",
              "    background-color: var(--hover-bg-color);\n",
              "    box-shadow: 0 1px 2px rgba(60, 64, 67, 0.3), 0 1px 3px 1px rgba(60, 64, 67, 0.15);\n",
              "    fill: var(--button-hover-fill-color);\n",
              "  }\n",
              "\n",
              "  .colab-df-quickchart-complete:disabled,\n",
              "  .colab-df-quickchart-complete:disabled:hover {\n",
              "    background-color: var(--disabled-bg-color);\n",
              "    fill: var(--disabled-fill-color);\n",
              "    box-shadow: none;\n",
              "  }\n",
              "\n",
              "  .colab-df-spinner {\n",
              "    border: 2px solid var(--fill-color);\n",
              "    border-color: transparent;\n",
              "    border-bottom-color: var(--fill-color);\n",
              "    animation:\n",
              "      spin 1s steps(1) infinite;\n",
              "  }\n",
              "\n",
              "  @keyframes spin {\n",
              "    0% {\n",
              "      border-color: transparent;\n",
              "      border-bottom-color: var(--fill-color);\n",
              "      border-left-color: var(--fill-color);\n",
              "    }\n",
              "    20% {\n",
              "      border-color: transparent;\n",
              "      border-left-color: var(--fill-color);\n",
              "      border-top-color: var(--fill-color);\n",
              "    }\n",
              "    30% {\n",
              "      border-color: transparent;\n",
              "      border-left-color: var(--fill-color);\n",
              "      border-top-color: var(--fill-color);\n",
              "      border-right-color: var(--fill-color);\n",
              "    }\n",
              "    40% {\n",
              "      border-color: transparent;\n",
              "      border-right-color: var(--fill-color);\n",
              "      border-top-color: var(--fill-color);\n",
              "    }\n",
              "    60% {\n",
              "      border-color: transparent;\n",
              "      border-right-color: var(--fill-color);\n",
              "    }\n",
              "    80% {\n",
              "      border-color: transparent;\n",
              "      border-right-color: var(--fill-color);\n",
              "      border-bottom-color: var(--fill-color);\n",
              "    }\n",
              "    90% {\n",
              "      border-color: transparent;\n",
              "      border-bottom-color: var(--fill-color);\n",
              "    }\n",
              "  }\n",
              "</style>\n",
              "\n",
              "  <script>\n",
              "    async function quickchart(key) {\n",
              "      const quickchartButtonEl =\n",
              "        document.querySelector('#' + key + ' button');\n",
              "      quickchartButtonEl.disabled = true;  // To prevent multiple clicks.\n",
              "      quickchartButtonEl.classList.add('colab-df-spinner');\n",
              "      try {\n",
              "        const charts = await google.colab.kernel.invokeFunction(\n",
              "            'suggestCharts', [key], {});\n",
              "      } catch (error) {\n",
              "        console.error('Error during call to suggestCharts:', error);\n",
              "      }\n",
              "      quickchartButtonEl.classList.remove('colab-df-spinner');\n",
              "      quickchartButtonEl.classList.add('colab-df-quickchart-complete');\n",
              "    }\n",
              "    (() => {\n",
              "      let quickchartButtonEl =\n",
              "        document.querySelector('#df-59a5a495-0a30-44d7-915e-3b197b27e867 button');\n",
              "      quickchartButtonEl.style.display =\n",
              "        google.colab.kernel.accessAllowed ? 'block' : 'none';\n",
              "    })();\n",
              "  </script>\n",
              "</div>\n",
              "\n",
              "    </div>\n",
              "  </div>\n"
            ],
            "application/vnd.google.colaboratory.intrinsic+json": {
              "type": "dataframe",
              "variable_name": "pollution"
            }
          },
          "metadata": {},
          "execution_count": 48
        }
      ]
    },
    {
      "cell_type": "code",
      "source": [
        "Sep_Sun = pollution[(pollution['PerMonth'] == 'September') & (pollution['PerDay'] == 'Sunday')]"
      ],
      "metadata": {
        "id": "04l7Uvw6FVRe"
      },
      "execution_count": 102,
      "outputs": []
    },
    {
      "cell_type": "code",
      "source": [
        "Sep_Sun.head()"
      ],
      "metadata": {
        "colab": {
          "base_uri": "https://localhost:8080/",
          "height": 429
        },
        "id": "iABqFjLxYzPR",
        "outputId": "9decc55d-42b1-4417-dbca-fe742a53e77c"
      },
      "execution_count": 103,
      "outputs": [
        {
          "output_type": "execute_result",
          "data": {
            "text/plain": [
              "          SensorID   latitude  longitude  bin0  bin1  bin2  bin3  bin4  bin5  \\\n",
              "12492  NYCP2_CS01A  40.844395 -73.871193    66    10     0     0     1     0   \n",
              "12493  NYCP2_CS01A  40.844421 -73.871201    37     4     1     0     0     0   \n",
              "12494  NYCP2_CS01A  40.844513 -73.871170   176    13     0     0     1     2   \n",
              "12495  NYCP2_CS01A  40.844612 -73.871101   145    17     4     1     0     2   \n",
              "12496  NYCP2_CS01A  40.844723 -73.871033   118    12     2     0     1     1   \n",
              "\n",
              "       bin6  ...  temperature  humidity      pm25                    geometry  \\\n",
              "12492     1  ...         17.4      81.1  5.560276  POINT (-73.87119 40.84439)   \n",
              "12493     0  ...         17.4      81.1  5.706193  POINT (-73.87120 40.84442)   \n",
              "12494     1  ...         17.5      81.1  6.111493  POINT (-73.87117 40.84451)   \n",
              "12495     0  ...         17.5      81.2  6.111493  POINT (-73.87110 40.84461)   \n",
              "12496     0  ...         17.5      81.2  6.200021  POINT (-73.87103 40.84472)   \n",
              "\n",
              "        PerTime  PerHour       Date  PMAM   PerMonth  PerDay  \n",
              "12492  04:00:05        4 2021-09-26    AM  September  Sunday  \n",
              "12493  04:00:06        4 2021-09-26    AM  September  Sunday  \n",
              "12494  04:00:11        4 2021-09-26    AM  September  Sunday  \n",
              "12495  04:00:16        4 2021-09-26    AM  September  Sunday  \n",
              "12496  04:00:21        4 2021-09-26    AM  September  Sunday  \n",
              "\n",
              "[5 rows x 37 columns]"
            ],
            "text/html": [
              "\n",
              "  <div id=\"df-d7355e4a-c2e7-453f-93fd-dae6d517c83c\" class=\"colab-df-container\">\n",
              "    <div>\n",
              "<style scoped>\n",
              "    .dataframe tbody tr th:only-of-type {\n",
              "        vertical-align: middle;\n",
              "    }\n",
              "\n",
              "    .dataframe tbody tr th {\n",
              "        vertical-align: top;\n",
              "    }\n",
              "\n",
              "    .dataframe thead th {\n",
              "        text-align: right;\n",
              "    }\n",
              "</style>\n",
              "<table border=\"1\" class=\"dataframe\">\n",
              "  <thead>\n",
              "    <tr style=\"text-align: right;\">\n",
              "      <th></th>\n",
              "      <th>SensorID</th>\n",
              "      <th>latitude</th>\n",
              "      <th>longitude</th>\n",
              "      <th>bin0</th>\n",
              "      <th>bin1</th>\n",
              "      <th>bin2</th>\n",
              "      <th>bin3</th>\n",
              "      <th>bin4</th>\n",
              "      <th>bin5</th>\n",
              "      <th>bin6</th>\n",
              "      <th>...</th>\n",
              "      <th>temperature</th>\n",
              "      <th>humidity</th>\n",
              "      <th>pm25</th>\n",
              "      <th>geometry</th>\n",
              "      <th>PerTime</th>\n",
              "      <th>PerHour</th>\n",
              "      <th>Date</th>\n",
              "      <th>PMAM</th>\n",
              "      <th>PerMonth</th>\n",
              "      <th>PerDay</th>\n",
              "    </tr>\n",
              "  </thead>\n",
              "  <tbody>\n",
              "    <tr>\n",
              "      <th>12492</th>\n",
              "      <td>NYCP2_CS01A</td>\n",
              "      <td>40.844395</td>\n",
              "      <td>-73.871193</td>\n",
              "      <td>66</td>\n",
              "      <td>10</td>\n",
              "      <td>0</td>\n",
              "      <td>0</td>\n",
              "      <td>1</td>\n",
              "      <td>0</td>\n",
              "      <td>1</td>\n",
              "      <td>...</td>\n",
              "      <td>17.4</td>\n",
              "      <td>81.1</td>\n",
              "      <td>5.560276</td>\n",
              "      <td>POINT (-73.87119 40.84439)</td>\n",
              "      <td>04:00:05</td>\n",
              "      <td>4</td>\n",
              "      <td>2021-09-26</td>\n",
              "      <td>AM</td>\n",
              "      <td>September</td>\n",
              "      <td>Sunday</td>\n",
              "    </tr>\n",
              "    <tr>\n",
              "      <th>12493</th>\n",
              "      <td>NYCP2_CS01A</td>\n",
              "      <td>40.844421</td>\n",
              "      <td>-73.871201</td>\n",
              "      <td>37</td>\n",
              "      <td>4</td>\n",
              "      <td>1</td>\n",
              "      <td>0</td>\n",
              "      <td>0</td>\n",
              "      <td>0</td>\n",
              "      <td>0</td>\n",
              "      <td>...</td>\n",
              "      <td>17.4</td>\n",
              "      <td>81.1</td>\n",
              "      <td>5.706193</td>\n",
              "      <td>POINT (-73.87120 40.84442)</td>\n",
              "      <td>04:00:06</td>\n",
              "      <td>4</td>\n",
              "      <td>2021-09-26</td>\n",
              "      <td>AM</td>\n",
              "      <td>September</td>\n",
              "      <td>Sunday</td>\n",
              "    </tr>\n",
              "    <tr>\n",
              "      <th>12494</th>\n",
              "      <td>NYCP2_CS01A</td>\n",
              "      <td>40.844513</td>\n",
              "      <td>-73.871170</td>\n",
              "      <td>176</td>\n",
              "      <td>13</td>\n",
              "      <td>0</td>\n",
              "      <td>0</td>\n",
              "      <td>1</td>\n",
              "      <td>2</td>\n",
              "      <td>1</td>\n",
              "      <td>...</td>\n",
              "      <td>17.5</td>\n",
              "      <td>81.1</td>\n",
              "      <td>6.111493</td>\n",
              "      <td>POINT (-73.87117 40.84451)</td>\n",
              "      <td>04:00:11</td>\n",
              "      <td>4</td>\n",
              "      <td>2021-09-26</td>\n",
              "      <td>AM</td>\n",
              "      <td>September</td>\n",
              "      <td>Sunday</td>\n",
              "    </tr>\n",
              "    <tr>\n",
              "      <th>12495</th>\n",
              "      <td>NYCP2_CS01A</td>\n",
              "      <td>40.844612</td>\n",
              "      <td>-73.871101</td>\n",
              "      <td>145</td>\n",
              "      <td>17</td>\n",
              "      <td>4</td>\n",
              "      <td>1</td>\n",
              "      <td>0</td>\n",
              "      <td>2</td>\n",
              "      <td>0</td>\n",
              "      <td>...</td>\n",
              "      <td>17.5</td>\n",
              "      <td>81.2</td>\n",
              "      <td>6.111493</td>\n",
              "      <td>POINT (-73.87110 40.84461)</td>\n",
              "      <td>04:00:16</td>\n",
              "      <td>4</td>\n",
              "      <td>2021-09-26</td>\n",
              "      <td>AM</td>\n",
              "      <td>September</td>\n",
              "      <td>Sunday</td>\n",
              "    </tr>\n",
              "    <tr>\n",
              "      <th>12496</th>\n",
              "      <td>NYCP2_CS01A</td>\n",
              "      <td>40.844723</td>\n",
              "      <td>-73.871033</td>\n",
              "      <td>118</td>\n",
              "      <td>12</td>\n",
              "      <td>2</td>\n",
              "      <td>0</td>\n",
              "      <td>1</td>\n",
              "      <td>1</td>\n",
              "      <td>0</td>\n",
              "      <td>...</td>\n",
              "      <td>17.5</td>\n",
              "      <td>81.2</td>\n",
              "      <td>6.200021</td>\n",
              "      <td>POINT (-73.87103 40.84472)</td>\n",
              "      <td>04:00:21</td>\n",
              "      <td>4</td>\n",
              "      <td>2021-09-26</td>\n",
              "      <td>AM</td>\n",
              "      <td>September</td>\n",
              "      <td>Sunday</td>\n",
              "    </tr>\n",
              "  </tbody>\n",
              "</table>\n",
              "<p>5 rows × 37 columns</p>\n",
              "</div>\n",
              "    <div class=\"colab-df-buttons\">\n",
              "\n",
              "  <div class=\"colab-df-container\">\n",
              "    <button class=\"colab-df-convert\" onclick=\"convertToInteractive('df-d7355e4a-c2e7-453f-93fd-dae6d517c83c')\"\n",
              "            title=\"Convert this dataframe to an interactive table.\"\n",
              "            style=\"display:none;\">\n",
              "\n",
              "  <svg xmlns=\"http://www.w3.org/2000/svg\" height=\"24px\" viewBox=\"0 -960 960 960\">\n",
              "    <path d=\"M120-120v-720h720v720H120Zm60-500h600v-160H180v160Zm220 220h160v-160H400v160Zm0 220h160v-160H400v160ZM180-400h160v-160H180v160Zm440 0h160v-160H620v160ZM180-180h160v-160H180v160Zm440 0h160v-160H620v160Z\"/>\n",
              "  </svg>\n",
              "    </button>\n",
              "\n",
              "  <style>\n",
              "    .colab-df-container {\n",
              "      display:flex;\n",
              "      gap: 12px;\n",
              "    }\n",
              "\n",
              "    .colab-df-convert {\n",
              "      background-color: #E8F0FE;\n",
              "      border: none;\n",
              "      border-radius: 50%;\n",
              "      cursor: pointer;\n",
              "      display: none;\n",
              "      fill: #1967D2;\n",
              "      height: 32px;\n",
              "      padding: 0 0 0 0;\n",
              "      width: 32px;\n",
              "    }\n",
              "\n",
              "    .colab-df-convert:hover {\n",
              "      background-color: #E2EBFA;\n",
              "      box-shadow: 0px 1px 2px rgba(60, 64, 67, 0.3), 0px 1px 3px 1px rgba(60, 64, 67, 0.15);\n",
              "      fill: #174EA6;\n",
              "    }\n",
              "\n",
              "    .colab-df-buttons div {\n",
              "      margin-bottom: 4px;\n",
              "    }\n",
              "\n",
              "    [theme=dark] .colab-df-convert {\n",
              "      background-color: #3B4455;\n",
              "      fill: #D2E3FC;\n",
              "    }\n",
              "\n",
              "    [theme=dark] .colab-df-convert:hover {\n",
              "      background-color: #434B5C;\n",
              "      box-shadow: 0px 1px 3px 1px rgba(0, 0, 0, 0.15);\n",
              "      filter: drop-shadow(0px 1px 2px rgba(0, 0, 0, 0.3));\n",
              "      fill: #FFFFFF;\n",
              "    }\n",
              "  </style>\n",
              "\n",
              "    <script>\n",
              "      const buttonEl =\n",
              "        document.querySelector('#df-d7355e4a-c2e7-453f-93fd-dae6d517c83c button.colab-df-convert');\n",
              "      buttonEl.style.display =\n",
              "        google.colab.kernel.accessAllowed ? 'block' : 'none';\n",
              "\n",
              "      async function convertToInteractive(key) {\n",
              "        const element = document.querySelector('#df-d7355e4a-c2e7-453f-93fd-dae6d517c83c');\n",
              "        const dataTable =\n",
              "          await google.colab.kernel.invokeFunction('convertToInteractive',\n",
              "                                                    [key], {});\n",
              "        if (!dataTable) return;\n",
              "\n",
              "        const docLinkHtml = 'Like what you see? Visit the ' +\n",
              "          '<a target=\"_blank\" href=https://colab.research.google.com/notebooks/data_table.ipynb>data table notebook</a>'\n",
              "          + ' to learn more about interactive tables.';\n",
              "        element.innerHTML = '';\n",
              "        dataTable['output_type'] = 'display_data';\n",
              "        await google.colab.output.renderOutput(dataTable, element);\n",
              "        const docLink = document.createElement('div');\n",
              "        docLink.innerHTML = docLinkHtml;\n",
              "        element.appendChild(docLink);\n",
              "      }\n",
              "    </script>\n",
              "  </div>\n",
              "\n",
              "\n",
              "<div id=\"df-277942a6-9bf2-4eba-8ea3-06bff0a75237\">\n",
              "  <button class=\"colab-df-quickchart\" onclick=\"quickchart('df-277942a6-9bf2-4eba-8ea3-06bff0a75237')\"\n",
              "            title=\"Suggest charts\"\n",
              "            style=\"display:none;\">\n",
              "\n",
              "<svg xmlns=\"http://www.w3.org/2000/svg\" height=\"24px\"viewBox=\"0 0 24 24\"\n",
              "     width=\"24px\">\n",
              "    <g>\n",
              "        <path d=\"M19 3H5c-1.1 0-2 .9-2 2v14c0 1.1.9 2 2 2h14c1.1 0 2-.9 2-2V5c0-1.1-.9-2-2-2zM9 17H7v-7h2v7zm4 0h-2V7h2v10zm4 0h-2v-4h2v4z\"/>\n",
              "    </g>\n",
              "</svg>\n",
              "  </button>\n",
              "\n",
              "<style>\n",
              "  .colab-df-quickchart {\n",
              "      --bg-color: #E8F0FE;\n",
              "      --fill-color: #1967D2;\n",
              "      --hover-bg-color: #E2EBFA;\n",
              "      --hover-fill-color: #174EA6;\n",
              "      --disabled-fill-color: #AAA;\n",
              "      --disabled-bg-color: #DDD;\n",
              "  }\n",
              "\n",
              "  [theme=dark] .colab-df-quickchart {\n",
              "      --bg-color: #3B4455;\n",
              "      --fill-color: #D2E3FC;\n",
              "      --hover-bg-color: #434B5C;\n",
              "      --hover-fill-color: #FFFFFF;\n",
              "      --disabled-bg-color: #3B4455;\n",
              "      --disabled-fill-color: #666;\n",
              "  }\n",
              "\n",
              "  .colab-df-quickchart {\n",
              "    background-color: var(--bg-color);\n",
              "    border: none;\n",
              "    border-radius: 50%;\n",
              "    cursor: pointer;\n",
              "    display: none;\n",
              "    fill: var(--fill-color);\n",
              "    height: 32px;\n",
              "    padding: 0;\n",
              "    width: 32px;\n",
              "  }\n",
              "\n",
              "  .colab-df-quickchart:hover {\n",
              "    background-color: var(--hover-bg-color);\n",
              "    box-shadow: 0 1px 2px rgba(60, 64, 67, 0.3), 0 1px 3px 1px rgba(60, 64, 67, 0.15);\n",
              "    fill: var(--button-hover-fill-color);\n",
              "  }\n",
              "\n",
              "  .colab-df-quickchart-complete:disabled,\n",
              "  .colab-df-quickchart-complete:disabled:hover {\n",
              "    background-color: var(--disabled-bg-color);\n",
              "    fill: var(--disabled-fill-color);\n",
              "    box-shadow: none;\n",
              "  }\n",
              "\n",
              "  .colab-df-spinner {\n",
              "    border: 2px solid var(--fill-color);\n",
              "    border-color: transparent;\n",
              "    border-bottom-color: var(--fill-color);\n",
              "    animation:\n",
              "      spin 1s steps(1) infinite;\n",
              "  }\n",
              "\n",
              "  @keyframes spin {\n",
              "    0% {\n",
              "      border-color: transparent;\n",
              "      border-bottom-color: var(--fill-color);\n",
              "      border-left-color: var(--fill-color);\n",
              "    }\n",
              "    20% {\n",
              "      border-color: transparent;\n",
              "      border-left-color: var(--fill-color);\n",
              "      border-top-color: var(--fill-color);\n",
              "    }\n",
              "    30% {\n",
              "      border-color: transparent;\n",
              "      border-left-color: var(--fill-color);\n",
              "      border-top-color: var(--fill-color);\n",
              "      border-right-color: var(--fill-color);\n",
              "    }\n",
              "    40% {\n",
              "      border-color: transparent;\n",
              "      border-right-color: var(--fill-color);\n",
              "      border-top-color: var(--fill-color);\n",
              "    }\n",
              "    60% {\n",
              "      border-color: transparent;\n",
              "      border-right-color: var(--fill-color);\n",
              "    }\n",
              "    80% {\n",
              "      border-color: transparent;\n",
              "      border-right-color: var(--fill-color);\n",
              "      border-bottom-color: var(--fill-color);\n",
              "    }\n",
              "    90% {\n",
              "      border-color: transparent;\n",
              "      border-bottom-color: var(--fill-color);\n",
              "    }\n",
              "  }\n",
              "</style>\n",
              "\n",
              "  <script>\n",
              "    async function quickchart(key) {\n",
              "      const quickchartButtonEl =\n",
              "        document.querySelector('#' + key + ' button');\n",
              "      quickchartButtonEl.disabled = true;  // To prevent multiple clicks.\n",
              "      quickchartButtonEl.classList.add('colab-df-spinner');\n",
              "      try {\n",
              "        const charts = await google.colab.kernel.invokeFunction(\n",
              "            'suggestCharts', [key], {});\n",
              "      } catch (error) {\n",
              "        console.error('Error during call to suggestCharts:', error);\n",
              "      }\n",
              "      quickchartButtonEl.classList.remove('colab-df-spinner');\n",
              "      quickchartButtonEl.classList.add('colab-df-quickchart-complete');\n",
              "    }\n",
              "    (() => {\n",
              "      let quickchartButtonEl =\n",
              "        document.querySelector('#df-277942a6-9bf2-4eba-8ea3-06bff0a75237 button');\n",
              "      quickchartButtonEl.style.display =\n",
              "        google.colab.kernel.accessAllowed ? 'block' : 'none';\n",
              "    })();\n",
              "  </script>\n",
              "</div>\n",
              "\n",
              "    </div>\n",
              "  </div>\n"
            ],
            "application/vnd.google.colaboratory.intrinsic+json": {
              "type": "dataframe",
              "variable_name": "Sep_Sun"
            }
          },
          "metadata": {},
          "execution_count": 103
        }
      ]
    },
    {
      "cell_type": "code",
      "source": [
        "num_rows = len(Sep_Sun)\n",
        "print(f\"There are {num_rows} rows in September_Sunday.\")"
      ],
      "metadata": {
        "colab": {
          "base_uri": "https://localhost:8080/"
        },
        "id": "MxwhJCOkFZ-e",
        "outputId": "004fb538-2f25-4be1-cf99-ac47fd3761b0"
      },
      "execution_count": 104,
      "outputs": [
        {
          "output_type": "stream",
          "name": "stdout",
          "text": [
            "There are 5924 rows in September_friday_12.\n"
          ]
        }
      ]
    },
    {
      "cell_type": "code",
      "source": [
        "#only from 3AM to 12:00PM\n",
        "hours_range = sorted(Sep_Sun['PerHour'].unique())\n",
        "print(\"Hours range for Sunday in September:\", hours_range)"
      ],
      "metadata": {
        "colab": {
          "base_uri": "https://localhost:8080/"
        },
        "id": "_ZRdh2MBIzEO",
        "outputId": "cbfcd1db-91f6-4599-f1b1-446c01c6c34b"
      },
      "execution_count": 106,
      "outputs": [
        {
          "output_type": "stream",
          "name": "stdout",
          "text": [
            "Hours range for Sunday in September: [4, 5, 6, 7, 8, 9, 10, 11, 12, 13, 14, 15, 17, 18]\n"
          ]
        }
      ]
    },
    {
      "cell_type": "code",
      "source": [
        "#we can know how many data are in each sensoer, most are in sensoer 2\n",
        "num_rows_S1 = (Sep_Sun['SensorID'] == 'NYCP2_CS01A').sum()\n",
        "num_rows_S2 = (Sep_Sun['SensorID'] == 'NYCP2_CS02A').sum()\n",
        "num_rows_S3 = (Sep_Sun['SensorID'] == 'NYCP2_CS03A').sum()\n",
        "\n",
        "print(f\"There are {num_rows_S1} rows in S1 in Sep_Fri_12.\")\n",
        "print(f\"There are {num_rows_S2} rows in S2 in Sep_Fri_12.\")\n",
        "print(f\"There are {num_rows_S3} rows in S3 in Sep_Fri_12.\")"
      ],
      "metadata": {
        "colab": {
          "base_uri": "https://localhost:8080/"
        },
        "id": "FlbohlNsGE_I",
        "outputId": "6ddbaca0-871d-4a18-823a-5408b2b279ba"
      },
      "execution_count": 107,
      "outputs": [
        {
          "output_type": "stream",
          "name": "stdout",
          "text": [
            "There are 4265 rows in S1 in Sep_Fri_12.\n",
            "There are 112 rows in S2 in Sep_Fri_12.\n",
            "There are 1547 rows in S3 in Sep_Fri_12.\n"
          ]
        }
      ]
    },
    {
      "cell_type": "code",
      "source": [
        "# PM2.5 is to measure fine particulate matter in the air, The \"pm25\" column contains measurements or readings of PM2.5 levels.\n",
        "#as a starting point we will work with pm25 for Fridays in September so we did a histogram to analyze\n",
        "sns.histplot(data=Sep_Sun, x='pm25', bins=20)\n",
        "plt.xlabel('pm25')\n",
        "plt.ylabel('Count')\n",
        "plt.title('Histogram of pm25 for Sunday in September')\n",
        "plt.show()"
      ],
      "metadata": {
        "colab": {
          "base_uri": "https://localhost:8080/",
          "height": 472
        },
        "id": "aV7RDVuiIQg2",
        "outputId": "76830cb7-43ed-40ac-d8a0-7ddedd3966ea"
      },
      "execution_count": 109,
      "outputs": [
        {
          "output_type": "display_data",
          "data": {
            "text/plain": [
              "<Figure size 640x480 with 1 Axes>"
            ],
            "image/png": "[encoded data removed]"
          },
          "metadata": {}
        }
      ]
    },
    {
      "cell_type": "code",
      "source": [
        "sns.histplot(data=Sep_Sun, x='PerHour', bins=20)\n",
        "plt.xlabel('PerHour')\n",
        "plt.ylabel('Count')\n",
        "plt.title('Histogram for Sunday in September')\n",
        "plt.show()"
      ],
      "metadata": {
        "colab": {
          "base_uri": "https://localhost:8080/",
          "height": 472
        },
        "id": "NxcSRD8IJGj5",
        "outputId": "ed3afa93-7a4a-49ce-e260-884e52abeabf"
      },
      "execution_count": 111,
      "outputs": [
        {
          "output_type": "display_data",
          "data": {
            "text/plain": [
              "<Figure size 640x480 with 1 Axes>"
            ],
            "image/png": "[encoded data removed]"
          },
          "metadata": {}
        }
      ]
    },
    {
      "cell_type": "code",
      "source": [
        "a ='SensorID'\n",
        "sns.histplot(data= Sep_Sun, x=a, bins=20)\n",
        "plt.xlabel('SensorID')\n",
        "plt.ylabel('count' )\n",
        "plt.title('Histogram of number of captures for all sensors in September all Sundays')\n",
        "plt.show()"
      ],
      "metadata": {
        "colab": {
          "base_uri": "https://localhost:8080/",
          "height": 472
        },
        "id": "NNI-Xk4DJTV1",
        "outputId": "2c54322d-db56-43af-e9a5-56011d272432"
      },
      "execution_count": 113,
      "outputs": [
        {
          "output_type": "display_data",
          "data": {
            "text/plain": [
              "<Figure size 640x480 with 1 Axes>"
            ],
            "image/png": "[encoded data removed]"
          },
          "metadata": {}
        }
      ]
    },
    {
      "cell_type": "code",
      "source": [
        "Sep_Sun.to_csv('Sep_Sun.csv', index=False)"
      ],
      "metadata": {
        "id": "MiFxJultKdUb"
      },
      "execution_count": 115,
      "outputs": []
    },
    {
      "cell_type": "code",
      "source": [
        "# Define the file path\n",
        "file_path = \"/content/drive/MyDrive/Foundation of Data Science/Project/Sep_Sun.csv\"\n",
        "\n",
        "# Export the Sep_Fri_12 DataFrame to a CSV file\n",
        "Sep_Sun.to_csv(file_path, index=False)\n"
      ],
      "metadata": {
        "id": "RY6k9jbtKDh-"
      },
      "execution_count": 116,
      "outputs": []
    },
    {
      "cell_type": "markdown",
      "source": [
        "A dictionary called vars is created which contains the LP variables. The reference keys to the dictionary are the warehouse name, then the bar name([“A”][“2”]) , and the data is Route_Tuple. (e.g. [“A”][“2”]: Route_A_2). The lower limit of zero is set, the upper limit of None is set, and the variables are defined to be Integers.\n",
        "\n",
        "\n",
        "\n",
        "```\n",
        "A dictionary called 'Vars' is created to contain the referenced variables(the routes)\n",
        "vars = LpVariable.dicts(\"Route\", (Warehouses, Bars), 0, None, LpInteger)\n",
        "```\n",
        "\n",
        "[pulp](https://coin-or.github.io/pulp/CaseStudies/a_transportation_problem.html)"
      ],
      "metadata": {
        "id": "1XFb4th50FoG"
      }
    },
    {
      "cell_type": "code",
      "source": [
        "import pandas as pd\n",
        "import pulp\n",
        "from math import radians, sin, cos, sqrt, atan2\n",
        "\n",
        "def distance(lat1, lon1, lat2, lon2):\n",
        "    # Calculate the distance between two points using Haversine formula\n",
        "    R = 6371.0  # Radius of the Earth in kilometers\n",
        "    lat1_rad = radians(lat1)\n",
        "    lon1_rad = radians(lon1)\n",
        "    lat2_rad = radians(lat2)\n",
        "    lon2_rad = radians(lon2)\n",
        "    dlon = lon2_rad - lon1_rad\n",
        "    dlat = lat2_rad - lat1_rad\n",
        "    a = sin(dlat / 2)**2 + cos(lat1_rad) * cos(lat2_rad) * sin(dlon / 2)**2\n",
        "    c = 2 * atan2(sqrt(a), sqrt(1 - a))\n",
        "    distance = R * c\n",
        "    return distance\n",
        "problem =None\n",
        "def minimum_cost_deployment(csv_file, budget, coverage_threshold, connectivity_threshold):\n",
        "    # Read pollution data from CSV file\n",
        "    data = pd.read_csv(csv_file)\n",
        "\n",
        "    # Initialize the ILP problem\n",
        "    problem = pulp.LpProblem(\"MinimumCostDeployment\", pulp.LpMinimize)\n",
        "\n",
        "    # Decision variables\n",
        "    num_sites = len(data)\n",
        "    sensors = pulp.LpVariable.dicts(\"Sensor\", range(num_sites), cat=pulp.LpBinary)\n",
        "\n",
        "    # Objective function: minimize cost\n",
        "    problem += pulp.lpSum([sensors[i] for i in range(num_sites)])\n",
        "\n",
        "    # Constraints: pollution coverage\n",
        "    for i in range(num_sites):\n",
        "        problem += pulp.lpSum([sensors[j] for j in range(num_sites) if distance(data['latitude'][i], data['longitude'][i], data['latitude'][j], data['longitude'][j]) <= coverage_threshold]) >= 1\n",
        "\n",
        "    # Constraint: budget constraint\n",
        "    problem += pulp.lpSum([sensors[i] for i in range(num_sites)]) <= budget\n",
        "\n",
        "    # Solve the problem\n",
        "    problem.solve()\n",
        "    # The status of the solution is printed to the screen\n",
        "    print(\"Status:\", LpStatus[problem.status])\n",
        "    # Extract solution\n",
        "    solution = []\n",
        "    for i in range(num_sites):\n",
        "        if sensors[i].varValue == 1:\n",
        "            solution.append(i)\n",
        "\n",
        "    return solution\n",
        "\n"
      ],
      "metadata": {
        "id": "0KXWnRW2re1N"
      },
      "execution_count": 117,
      "outputs": []
    },
    {
      "cell_type": "code",
      "source": [
        "# Example usage:\n",
        "csv_file =\"/content/drive/MyDrive/Foundation of Data Science/Project/Sep_Sun.csv\"\n",
        "budget = 5  # Example budget\n",
        "coverage_threshold = 0.1  # Example coverage threshold in kilometers\n",
        "connectivity_threshold = 10  # Example connectivity threshold in kilometers\n",
        "\n",
        "# Call the function\n",
        "solution = minimum_cost_deployment(csv_file, budget, coverage_threshold, connectivity_threshold)\n",
        "print(\"Optimal sensor deployment:\", solution)"
      ],
      "metadata": {
        "colab": {
          "base_uri": "https://localhost:8080/"
        },
        "id": "CVzy5CTXsFvg",
        "outputId": "4088bc0f-97ea-4e7b-c8bb-0117520e6c79"
      },
      "execution_count": 118,
      "outputs": [
        {
          "output_type": "stream",
          "name": "stdout",
          "text": [
            "Status: Infeasible\n",
            "Optimal sensor deployment: [1003, 1007, 1014, 1017, 1020, 1023, 1038, 1042, 1045, 1048, 1051, 1058, 1060, 1065, 1085, 1093, 1115, 1118, 1123, 1175, 1188, 1202, 1215, 1218, 1221, 1226, 1229, 1235, 1262, 1295, 1319, 1325, 1328, 1333, 1355, 1364, 1443, 1449, 1471, 1479, 1531, 1544, 1558, 1829, 1919, 1934, 1940, 1945, 2289, 2306, 2434, 2570, 2605, 2684, 2689, 2720, 2725, 2727, 2820, 2852, 2866, 3171, 3213, 3318, 3332, 3387, 3422, 3432, 3832, 3837, 3844, 3950, 3956, 3972, 3995, 3998, 4001, 4004, 4011, 4022, 4037, 4053, 4058, 4064, 4067, 4070, 4073, 4076, 4080, 4084, 4087, 4093, 4097, 4100, 4113, 4125, 4141, 4145, 4148, 4153, 4176, 4265, 4445, 4458, 4490, 4494, 4502, 4505, 4508, 4511, 4517, 4524, 4529, 4746, 4750, 4753, 4759, 4856, 4868, 4968, 4975, 4984, 5018, 5038, 5046, 5061, 5149, 5339, 5748, 5760, 5765, 5779]\n"
          ]
        }
      ]
    }
  ]
}